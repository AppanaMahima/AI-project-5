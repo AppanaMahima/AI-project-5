{
  "cells": [
    {
      "cell_type": "markdown",
      "metadata": {
        "id": "h4btkZVyOyPl"
      },
      "source": [
        "Importing necessary libraries"
      ]
    },
    {
      "cell_type": "code",
      "execution_count": 3,
      "metadata": {
        "id": "NQ9B9Y07LagG"
      },
      "outputs": [],
      "source": [
        "import pandas as pd \n",
        "import numpy as np\n",
        "import re\n",
        "import nltk\n",
        "from keras.preprocessing.text import Tokenizer"
      ]
    },
    {
      "cell_type": "markdown",
      "metadata": {
        "id": "JfCfjD6vO2kZ"
      },
      "source": [
        "unzip the source data"
      ]
    },
    {
      "cell_type": "code",
      "execution_count": 4,
      "metadata": {
        "colab": {
          "base_uri": "https://localhost:8080/"
        },
        "id": "uSsbGjyBOA9p",
        "outputId": "6adc98af-bec2-4df9-b111-732d561ac9ea"
      },
      "outputs": [
        {
          "output_type": "stream",
          "name": "stdout",
          "text": [
            "Archive:  /content/archive.zip\n",
            "  inflating: /content/data/spam_ham.csv  \n"
          ]
        }
      ],
      "source": [
        "!unzip '/content/archive.zip' -d '/content/data'"
      ]
    },
    {
      "cell_type": "markdown",
      "metadata": {
        "id": "9QHoJNasO6Er"
      },
      "source": [
        "Pull the source data"
      ]
    },
    {
      "cell_type": "code",
      "execution_count": 5,
      "metadata": {
        "colab": {
          "base_uri": "https://localhost:8080/",
          "height": 424
        },
        "id": "sH6uc_XeOxLp",
        "outputId": "46e48e53-a2b3-4721-c28f-a5c8f703bba9"
      },
      "outputs": [
        {
          "output_type": "execute_result",
          "data": {
            "text/plain": [
              "                                                   text sp_ha\n",
              "46    From fork-admin@xent.com Wed Oct 9 10:55:12 20...     0\n",
              "47    From razor-users-admin@lists.sourceforge.net F...     0\n",
              "48    From fork-admin@xent.com Tue Jul 23 14:27:17 2...     0\n",
              "49    From leadsales400042@yahoo.com Mon Jun 24 17:0...     1\n",
              "50    From rssfeeds@jmason.org Thu Sep 26 16:34:06 2...     0\n",
              "...                                                 ...   ...\n",
              "5823  From ilug-admin@linux.ie Mon Jul 22 18:12:45 2...     0\n",
              "5824  From fork-admin@xent.com Mon Oct 7 20:37:02 20...     0\n",
              "5825  Received: from hq.pro-ns.net (localhost [127.0...     1\n",
              "5826  From razor-users-admin@lists.sourceforge.net T...     0\n",
              "5827  From rssfeeds@jmason.org Mon Sep 30 13:44:10 2...     0\n",
              "\n",
              "[5782 rows x 2 columns]"
            ],
            "text/html": [
              "\n",
              "  <div id=\"df-b026c5e1-2a46-417f-a06e-65a0bb0ff93b\">\n",
              "    <div class=\"colab-df-container\">\n",
              "      <div>\n",
              "<style scoped>\n",
              "    .dataframe tbody tr th:only-of-type {\n",
              "        vertical-align: middle;\n",
              "    }\n",
              "\n",
              "    .dataframe tbody tr th {\n",
              "        vertical-align: top;\n",
              "    }\n",
              "\n",
              "    .dataframe thead th {\n",
              "        text-align: right;\n",
              "    }\n",
              "</style>\n",
              "<table border=\"1\" class=\"dataframe\">\n",
              "  <thead>\n",
              "    <tr style=\"text-align: right;\">\n",
              "      <th></th>\n",
              "      <th>text</th>\n",
              "      <th>sp_ha</th>\n",
              "    </tr>\n",
              "  </thead>\n",
              "  <tbody>\n",
              "    <tr>\n",
              "      <th>46</th>\n",
              "      <td>From fork-admin@xent.com Wed Oct 9 10:55:12 20...</td>\n",
              "      <td>0</td>\n",
              "    </tr>\n",
              "    <tr>\n",
              "      <th>47</th>\n",
              "      <td>From razor-users-admin@lists.sourceforge.net F...</td>\n",
              "      <td>0</td>\n",
              "    </tr>\n",
              "    <tr>\n",
              "      <th>48</th>\n",
              "      <td>From fork-admin@xent.com Tue Jul 23 14:27:17 2...</td>\n",
              "      <td>0</td>\n",
              "    </tr>\n",
              "    <tr>\n",
              "      <th>49</th>\n",
              "      <td>From leadsales400042@yahoo.com Mon Jun 24 17:0...</td>\n",
              "      <td>1</td>\n",
              "    </tr>\n",
              "    <tr>\n",
              "      <th>50</th>\n",
              "      <td>From rssfeeds@jmason.org Thu Sep 26 16:34:06 2...</td>\n",
              "      <td>0</td>\n",
              "    </tr>\n",
              "    <tr>\n",
              "      <th>...</th>\n",
              "      <td>...</td>\n",
              "      <td>...</td>\n",
              "    </tr>\n",
              "    <tr>\n",
              "      <th>5823</th>\n",
              "      <td>From ilug-admin@linux.ie Mon Jul 22 18:12:45 2...</td>\n",
              "      <td>0</td>\n",
              "    </tr>\n",
              "    <tr>\n",
              "      <th>5824</th>\n",
              "      <td>From fork-admin@xent.com Mon Oct 7 20:37:02 20...</td>\n",
              "      <td>0</td>\n",
              "    </tr>\n",
              "    <tr>\n",
              "      <th>5825</th>\n",
              "      <td>Received: from hq.pro-ns.net (localhost [127.0...</td>\n",
              "      <td>1</td>\n",
              "    </tr>\n",
              "    <tr>\n",
              "      <th>5826</th>\n",
              "      <td>From razor-users-admin@lists.sourceforge.net T...</td>\n",
              "      <td>0</td>\n",
              "    </tr>\n",
              "    <tr>\n",
              "      <th>5827</th>\n",
              "      <td>From rssfeeds@jmason.org Mon Sep 30 13:44:10 2...</td>\n",
              "      <td>0</td>\n",
              "    </tr>\n",
              "  </tbody>\n",
              "</table>\n",
              "<p>5782 rows × 2 columns</p>\n",
              "</div>\n",
              "      <button class=\"colab-df-convert\" onclick=\"convertToInteractive('df-b026c5e1-2a46-417f-a06e-65a0bb0ff93b')\"\n",
              "              title=\"Convert this dataframe to an interactive table.\"\n",
              "              style=\"display:none;\">\n",
              "        \n",
              "  <svg xmlns=\"http://www.w3.org/2000/svg\" height=\"24px\"viewBox=\"0 0 24 24\"\n",
              "       width=\"24px\">\n",
              "    <path d=\"M0 0h24v24H0V0z\" fill=\"none\"/>\n",
              "    <path d=\"M18.56 5.44l.94 2.06.94-2.06 2.06-.94-2.06-.94-.94-2.06-.94 2.06-2.06.94zm-11 1L8.5 8.5l.94-2.06 2.06-.94-2.06-.94L8.5 2.5l-.94 2.06-2.06.94zm10 10l.94 2.06.94-2.06 2.06-.94-2.06-.94-.94-2.06-.94 2.06-2.06.94z\"/><path d=\"M17.41 7.96l-1.37-1.37c-.4-.4-.92-.59-1.43-.59-.52 0-1.04.2-1.43.59L10.3 9.45l-7.72 7.72c-.78.78-.78 2.05 0 2.83L4 21.41c.39.39.9.59 1.41.59.51 0 1.02-.2 1.41-.59l7.78-7.78 2.81-2.81c.8-.78.8-2.07 0-2.86zM5.41 20L4 18.59l7.72-7.72 1.47 1.35L5.41 20z\"/>\n",
              "  </svg>\n",
              "      </button>\n",
              "      \n",
              "  <style>\n",
              "    .colab-df-container {\n",
              "      display:flex;\n",
              "      flex-wrap:wrap;\n",
              "      gap: 12px;\n",
              "    }\n",
              "\n",
              "    .colab-df-convert {\n",
              "      background-color: #E8F0FE;\n",
              "      border: none;\n",
              "      border-radius: 50%;\n",
              "      cursor: pointer;\n",
              "      display: none;\n",
              "      fill: #1967D2;\n",
              "      height: 32px;\n",
              "      padding: 0 0 0 0;\n",
              "      width: 32px;\n",
              "    }\n",
              "\n",
              "    .colab-df-convert:hover {\n",
              "      background-color: #E2EBFA;\n",
              "      box-shadow: 0px 1px 2px rgba(60, 64, 67, 0.3), 0px 1px 3px 1px rgba(60, 64, 67, 0.15);\n",
              "      fill: #174EA6;\n",
              "    }\n",
              "\n",
              "    [theme=dark] .colab-df-convert {\n",
              "      background-color: #3B4455;\n",
              "      fill: #D2E3FC;\n",
              "    }\n",
              "\n",
              "    [theme=dark] .colab-df-convert:hover {\n",
              "      background-color: #434B5C;\n",
              "      box-shadow: 0px 1px 3px 1px rgba(0, 0, 0, 0.15);\n",
              "      filter: drop-shadow(0px 1px 2px rgba(0, 0, 0, 0.3));\n",
              "      fill: #FFFFFF;\n",
              "    }\n",
              "  </style>\n",
              "\n",
              "      <script>\n",
              "        const buttonEl =\n",
              "          document.querySelector('#df-b026c5e1-2a46-417f-a06e-65a0bb0ff93b button.colab-df-convert');\n",
              "        buttonEl.style.display =\n",
              "          google.colab.kernel.accessAllowed ? 'block' : 'none';\n",
              "\n",
              "        async function convertToInteractive(key) {\n",
              "          const element = document.querySelector('#df-b026c5e1-2a46-417f-a06e-65a0bb0ff93b');\n",
              "          const dataTable =\n",
              "            await google.colab.kernel.invokeFunction('convertToInteractive',\n",
              "                                                     [key], {});\n",
              "          if (!dataTable) return;\n",
              "\n",
              "          const docLinkHtml = 'Like what you see? Visit the ' +\n",
              "            '<a target=\"_blank\" href=https://colab.research.google.com/notebooks/data_table.ipynb>data table notebook</a>'\n",
              "            + ' to learn more about interactive tables.';\n",
              "          element.innerHTML = '';\n",
              "          dataTable['output_type'] = 'display_data';\n",
              "          await google.colab.output.renderOutput(dataTable, element);\n",
              "          const docLink = document.createElement('div');\n",
              "          docLink.innerHTML = docLinkHtml;\n",
              "          element.appendChild(docLink);\n",
              "        }\n",
              "      </script>\n",
              "    </div>\n",
              "  </div>\n",
              "  "
            ]
          },
          "metadata": {},
          "execution_count": 5
        }
      ],
      "source": [
        "dframe=pd.read_csv('/content/data/spam_ham.csv' , sep=',')\n",
        "dframe[46:]"
      ]
    },
    {
      "cell_type": "markdown",
      "metadata": {
        "id": "8CGUPMpxPJil"
      },
      "source": [
        "checking the rows"
      ]
    },
    {
      "cell_type": "code",
      "execution_count": 6,
      "metadata": {
        "colab": {
          "base_uri": "https://localhost:8080/"
        },
        "id": "zcnQjYpFPFnw",
        "outputId": "6867e39b-e4e0-455d-b6f4-1cbdb94bf9a4"
      },
      "outputs": [
        {
          "output_type": "stream",
          "name": "stdout",
          "text": [
            "<class 'pandas.core.frame.DataFrame'>\n",
            "RangeIndex: 5828 entries, 0 to 5827\n",
            "Data columns (total 2 columns):\n",
            " #   Column  Non-Null Count  Dtype \n",
            "---  ------  --------------  ----- \n",
            " 0   text    5826 non-null   object\n",
            " 1   sp_ha   5825 non-null   object\n",
            "dtypes: object(2)\n",
            "memory usage: 91.2+ KB\n"
          ]
        }
      ],
      "source": [
        "dframe.info()"
      ]
    },
    {
      "cell_type": "markdown",
      "metadata": {
        "id": "UvHEOQ3LWNfe"
      },
      "source": [
        "below is the example for genuine email"
      ]
    },
    {
      "cell_type": "code",
      "execution_count": 7,
      "metadata": {
        "colab": {
          "base_uri": "https://localhost:8080/",
          "height": 174
        },
        "id": "XFN1hfZWPQZ9",
        "outputId": "949dceba-b0f2-43b7-962e-3975d1d381a8"
      },
      "outputs": [
        {
          "output_type": "execute_result",
          "data": {
            "text/plain": [
              "'From leadsales400042@yahoo.com Mon Jun 24 17:03:55 2002 Return-Path: leadsales400042@yahoo.com Delivery-Date: Wed May 15 16:24:17 2002 Received: from MIRAFLORES.GOB.PE ([161.132.70.10]) by dogma.slashnull.org (8.11.6/8.11.6) with ESMTP id g4FFOAe12470 for <webmaster@efi.ie>; Wed, 15 May 2002 16:24:10 +0100 Message-Id: <200205151524.g4FFOAe12470@dogma.slashnull.org> Received: from yahoo.com([208.166.82.124]) by MIRAFLORES.GOB.PE (IBM OS/400 SMTP V05R01M00) with TCP; Wed, 15 May 2002 10:23:51 +0000 From: leadsales400042@yahoo.com To: webmaster@efi.ie Subject: Got Leads? Date: 15 May 2002 20:34:36 -0700 MIME-Version: 1.0 X-Keywords: Content-Type: text/html Content-Transfer-Encoding: quoted-printable <html> HEY, I AM FORWARDING YOU THE AD THEY SENT ME. I TRIED THE LEADS AND THINK WE SHOULD USE THEM FOR OUR TEAM. WHAT DO YOU THINK? THANKS, JOHN <head> <meta http-equiv=3D\"Content-Type\" content=3D\"text/html; charset=3Dwindows= -1252\"> <meta name=3D\"GENERATOR\" content=3D\"Microsoft FrontPage 4.0\"> <meta name=3D\"ProgId\" content=3D\"FrontPage.Editor.Document\"> <title>LEAD SALE EXTENDED</title> </head> <body text=3D\"#000000\"> <form method=3D\"POST\" enctype=3D\"text/plain\" action=3D\"mailto:thekey@btam= ail.net.cn?subject=3DNeed Leads\"> <p><b> YOU HAVE BEEN INVITED TO JOIN THE CO-OP</b></p> <table border=3D\"1\" width=3D\"102%\" bordercolor=3D\"#000080\" bgcolor=3D\"#= 000080\"> <tr> <td width=3D\"100%\"><b><font size=3D\"7\" color=3D\"#FFFFFF\">LEAD SALE = EXTENDED</font></b></td> </tr> </table> <table border=3D\"0\" width=3D\"100%\"> <tr> <td width=3D\"100%\"> <p align=3D\"center\"><b><font size=3D\"3\" color=3D\"#000000\">We have= recently put together a lead co-op specifically for your group.&nbsp; We have = been able to lock the price at as little as 50 cents per lead!!&nbsp; = Leads are normally $1-$3 per...</font></b></td> </tr> </table> <table border=3D\"0\" width=3D\"100%\"> <tr> <td width=3D\"16%\" bordercolor=3D\"#FFFFFF\" bgcolor=3D\"#FFFFFF\">&nbsp= ;</td> <td width=3D\"84%\"> <ul> <li> <p align=3D\"left\"><b><font size=3D\"3\" color=3D\"#000000\">So...= .</font></b></li> <li> <p align=3D\"left\"><b><font size=3D\"3\" color=3D\"#000000\">SIGN = UP TODAY....</font></b></li> <li> <p align=3D\"left\"><b><font size=3D\"3\" color=3D\"#000000\">GET O= UR LEADS....</font></b></li> <li> <p align=3D\"left\"><b><font size=3D\"3\" color=3D\"#000000\">AND G= ET TO WORK!!</font></b></li> </ul> <table border=3D\"0\" width=3D\"100%\" bordercolor=3D\"#000080\" bgcolo= r=3D\"#000080\"> <tbody> <tr> <td bgColor=3D\"#000000\" width=3D\"100%\"> <b><font color=3D\"#FF0000\" size=3D\"5\">Here is what we hav= e to offer you:</font></b> </td> </tr> </tbody> </table> <table border=3D\"0\" width=3D\"100%\"> <tbody> <tr> <td width=3D\"78%\"> <b><u>NETWORK MARKETER OR GIFTER CONTACTS</u></b> <ul> <li><b>All Leads Guaranteed To Be Network Marketers / o= r Gifters</b> <li><b>Guaranteed To Be Current, Active and Experienced= </b> <li><b>Leads, Have Either Responded To A Internet Quest= ionnaire, Or Are Already On Our Contact List, Of Current, Active Networkers, Open To Opportunity.</b> <li><b>Leads Include:&nbsp;&nbsp;&nbsp;&nbsp;[At Least]= Name, Phone, And Email</b></li> </ul> <p>&nbsp; </td> </tr> </tbody> </table> </td> </tr> </table> <p align=3D\"center\"><b>***USE US AS A TOOL TO BUILD YOUR BUSINESS!!&nbs= p; REFER AS MANY PEOPLE AS YOU CAN.&nbsp; EARN A TRUE RESIDUAL INCOME BY THE DUPLICATION OF YOUR TEAM, CAUSE REMEMBER......</b></p> <table border=3D\"0\" width=3D\"100%\"> <tr> <td width=3D\"100%\" bgcolor=3D\"#000000\" bordercolor=3D\"#000000\"> <p align=3D\"center\"><b><font color=3D\"#FF0000\">[Remember] </font>= <font color=3D\"#FFFFFF\">&nbsp; </font></b><font color=3D\"#FFFFFF\" size=3D\"3\"><b>Your System Now Includes A Proven Lead System.&nbsp; </b></font><b><font size=3D\"= 2\" color=3D\"#FFFFFF\">&nbsp;&nbsp;&nbsp; </font><font color=3D\"#FF0000\"><font size=3D\"2\">[</font>Remember]= </font></b></td> </tr> </table> <p>____________________________________________________________________= _</p> <table border=3D\"0\" width=3D\"100%\"> <tr> <td width=3D\"100%\"> <p align=3D\"center\"><b><font color=3D\"#FF0000\" size=3D\"5\">Replace= ment Policy [Our Leads Are Guaranteed]</font></b></p> <ul> <li> <p align=3D\"left\"><b>Any Unusable Lead&nbsp;&nbsp; Ie. Missin= g Info, Invalid Info, Any Just Real Negative Response Towards You On = The Phone..... <font color=3D\"#ff0000\">REPLACED</font></b></p> </li> </ul> <table border=3D\"0\" width=3D\"100%\"> <tr> <td width=3D\"100%\" bgcolor=3D\"#000000\" bordercolor=3D\"#000000= \"> <p align=3D\"center\"><b><font color=3D\"#ff0000\">Replacement = Leads Given -&nbsp; No Questions Asked.&nbsp; Just Let Us Know What You= Need And We Will Get It Handled.</font></b></td> </tr> </table> <p align=3D\"center\"><b><font color=3D\"#000000\">PLEASE COMPLETE TH= E FOLLOWING FORM&nbsp;</font></b></p> </td> </tr> </table> <table border=3D\"1\" width=3D\"100%\" bordercolor=3D\"#000000\" bgcolor=3D\"#= 000000\"> <tr> <td width=3D\"100%\"> <table border=3D\"0\" width=3D\"100%\"> <tr> <td width=3D\"20%\" align=3D\"right\"><b><font size=3D\"3\" color=3D= \"#FFFFFF\">NAME</font></b></td> <td width=3D\"20%\" align=3D\"left\"> <p align=3D\"left\"><font color=3D\"#FFFFFF\"><input type=3D\"te= xt\" name=3D\"Name\" size=3D\"20\"></font></td> <td width=3D\"20%\" align=3D\"right\"><b><font size=3D\"3\" color=3D= \"#FFFFFF\">PHONE</font></b></td> <td width=3D\"20%\"><font color=3D\"#FFFFFF\"><input type=3D\"text= \" name=3D\"Phone\" size=3D\"20\"></font></td> </tr> <tr> <td width=3D\"20%\" align=3D\"right\"><b><font size=3D\"3\" color=3D= \"#FFFFFF\">EMAIL</font></b></td> <td width=3D\"20%\" align=3D\"left\"><font color=3D\"#FFFFFF\"><inp= ut type=3D\"text\" name=3D\"Email\" size=3D\"20\"></font></td> <td width=3D\"20%\" align=3D\"right\"><b><font size=3D\"3\" color=3D= \"#FFFFFF\">TIME TO CALL</font></b></td> <td width=3D\"20%\"><font color=3D\"#FFFFFF\"><input type=3D\"text= \" name=3D\"Time2Call\" size=3D\"18\"><select size=3D\"1\" name=3D\"TimeZone\"> <option>PST</option> <option>MNT</option> <option>CST</option> <option>EST</option> <option>OTHER</option> </select></font></td> </tr> <tr> <td width=3D\"20%\" align=3D\"right\"><b><font size=3D\"3\" color=3D= \"#FFFFFF\">COMPANY YOU ARE WITH</font></b></td> <td width=3D\"60%\" align=3D\"left\" colspan=3D\"3\"><font color=3D= \"#FFFFFF\"><input type=3D\"text\" name=3D\"Company\" size=3D\"50\"></font></td> </tr> <tr> <td width=3D\"20%\" align=3D\"right\"><font color=3D\"#FFFFFF\"><in= put type=3D\"text\" name=3D\"DOWNLINE_MEMBERS\" size=3D\"13\"></font></td> <td width=3D\"60%\" align=3D\"left\" colspan=3D\"3\"><b><font color= =3D\"#FFFFFF\">HOW MANY DOWNLINE MEMBERS DO YOU HAVE THAT MAY ALSO NEED LEADS?= </font></b></td> </tr> </table> <p align=3D\"center\"><input type=3D\"submit\" value=3D\"Submit\" name=3D= \"B1\"><input type=3D\"reset\" value=3D\"Reset\" name=3D\"B2\"></p> &nbsp;</td> </tr> </table> <p align=3D\"center\">&nbsp;</p> <p align=3D\"center\">&nbsp;</p> <p align=3D\"center\">&nbsp;</p> <p align=3D\"center\">&nbsp;</p> <p align=3D\"center\">&nbsp;</p> <p align=3D\"center\">&nbsp;</p> <p align=3D\"center\">&nbsp;</p> <p align=3D\"center\"><b><font size=3D\"2\"><font color=3D\"#000000\">You hav= e received this Message because of a past Client/Service Relationship we had with you. = If this might be inaccurate, or you simply wish to be Removed from all future N= otices, then</font><font color=3D\"#FF0000\"> <a href=3D\"mailto:removes@btamail.= net.cn?subject=3DRemove\" target=3D\"_blank\">CLICK HERE</a></font></font></b></p> <table border=3D\"0\" width=3D\"100%\"> <tr> <td width=3D\"100%\" bgcolor=3D\"#000000\" bordercolor=3D\"#000000\"><fon= t size=3D\"5\">&nbsp;</font></td> </tr> </table> </form> </body> </html>'"
            ],
            "application/vnd.google.colaboratory.intrinsic+json": {
              "type": "string"
            }
          },
          "metadata": {},
          "execution_count": 7
        }
      ],
      "source": [
        "dummy=dframe['text'][49]\n",
        "dummy"
      ]
    },
    {
      "cell_type": "markdown",
      "metadata": {
        "id": "hc8Orvt8WTKh"
      },
      "source": [
        "Example for spam email"
      ]
    },
    {
      "cell_type": "code",
      "execution_count": 8,
      "metadata": {
        "id": "mTaewC7eQhWz"
      },
      "outputs": [],
      "source": [
        "\n",
        "ones=dframe['text'].where(dframe['sp_ha']=='1')\n",
        "strngg=ones[1]"
      ]
    },
    {
      "cell_type": "markdown",
      "metadata": {
        "id": "9A8DF7O3WgTv"
      },
      "source": [
        "Preprocessing \n",
        "\n",
        "```\n",
        "# Dropping data with nan values\n",
        "```\n",
        "\n",
        "---\n",
        "\n",
        "\n",
        "\n",
        "---\n",
        "\n"
      ]
    },
    {
      "cell_type": "code",
      "execution_count": 9,
      "metadata": {
        "colab": {
          "base_uri": "https://localhost:8080/",
          "height": 143
        },
        "id": "IremwYOjY0gA",
        "outputId": "de0fd0db-6cbe-49ad-d612-7392ad0e1c38"
      },
      "outputs": [
        {
          "output_type": "execute_result",
          "data": {
            "text/plain": [
              "                                                   text sp_ha\n",
              "3872  From regal3@freeuk.com Fri Jul 26 03:51:44 200...   NaN\n",
              "3873                                                NaN   NaN\n",
              "3874                                                NaN   NaN"
            ],
            "text/html": [
              "\n",
              "  <div id=\"df-d23f1e9b-234a-4026-b937-0677d99dea14\">\n",
              "    <div class=\"colab-df-container\">\n",
              "      <div>\n",
              "<style scoped>\n",
              "    .dataframe tbody tr th:only-of-type {\n",
              "        vertical-align: middle;\n",
              "    }\n",
              "\n",
              "    .dataframe tbody tr th {\n",
              "        vertical-align: top;\n",
              "    }\n",
              "\n",
              "    .dataframe thead th {\n",
              "        text-align: right;\n",
              "    }\n",
              "</style>\n",
              "<table border=\"1\" class=\"dataframe\">\n",
              "  <thead>\n",
              "    <tr style=\"text-align: right;\">\n",
              "      <th></th>\n",
              "      <th>text</th>\n",
              "      <th>sp_ha</th>\n",
              "    </tr>\n",
              "  </thead>\n",
              "  <tbody>\n",
              "    <tr>\n",
              "      <th>3872</th>\n",
              "      <td>From regal3@freeuk.com Fri Jul 26 03:51:44 200...</td>\n",
              "      <td>NaN</td>\n",
              "    </tr>\n",
              "    <tr>\n",
              "      <th>3873</th>\n",
              "      <td>NaN</td>\n",
              "      <td>NaN</td>\n",
              "    </tr>\n",
              "    <tr>\n",
              "      <th>3874</th>\n",
              "      <td>NaN</td>\n",
              "      <td>NaN</td>\n",
              "    </tr>\n",
              "  </tbody>\n",
              "</table>\n",
              "</div>\n",
              "      <button class=\"colab-df-convert\" onclick=\"convertToInteractive('df-d23f1e9b-234a-4026-b937-0677d99dea14')\"\n",
              "              title=\"Convert this dataframe to an interactive table.\"\n",
              "              style=\"display:none;\">\n",
              "        \n",
              "  <svg xmlns=\"http://www.w3.org/2000/svg\" height=\"24px\"viewBox=\"0 0 24 24\"\n",
              "       width=\"24px\">\n",
              "    <path d=\"M0 0h24v24H0V0z\" fill=\"none\"/>\n",
              "    <path d=\"M18.56 5.44l.94 2.06.94-2.06 2.06-.94-2.06-.94-.94-2.06-.94 2.06-2.06.94zm-11 1L8.5 8.5l.94-2.06 2.06-.94-2.06-.94L8.5 2.5l-.94 2.06-2.06.94zm10 10l.94 2.06.94-2.06 2.06-.94-2.06-.94-.94-2.06-.94 2.06-2.06.94z\"/><path d=\"M17.41 7.96l-1.37-1.37c-.4-.4-.92-.59-1.43-.59-.52 0-1.04.2-1.43.59L10.3 9.45l-7.72 7.72c-.78.78-.78 2.05 0 2.83L4 21.41c.39.39.9.59 1.41.59.51 0 1.02-.2 1.41-.59l7.78-7.78 2.81-2.81c.8-.78.8-2.07 0-2.86zM5.41 20L4 18.59l7.72-7.72 1.47 1.35L5.41 20z\"/>\n",
              "  </svg>\n",
              "      </button>\n",
              "      \n",
              "  <style>\n",
              "    .colab-df-container {\n",
              "      display:flex;\n",
              "      flex-wrap:wrap;\n",
              "      gap: 12px;\n",
              "    }\n",
              "\n",
              "    .colab-df-convert {\n",
              "      background-color: #E8F0FE;\n",
              "      border: none;\n",
              "      border-radius: 50%;\n",
              "      cursor: pointer;\n",
              "      display: none;\n",
              "      fill: #1967D2;\n",
              "      height: 32px;\n",
              "      padding: 0 0 0 0;\n",
              "      width: 32px;\n",
              "    }\n",
              "\n",
              "    .colab-df-convert:hover {\n",
              "      background-color: #E2EBFA;\n",
              "      box-shadow: 0px 1px 2px rgba(60, 64, 67, 0.3), 0px 1px 3px 1px rgba(60, 64, 67, 0.15);\n",
              "      fill: #174EA6;\n",
              "    }\n",
              "\n",
              "    [theme=dark] .colab-df-convert {\n",
              "      background-color: #3B4455;\n",
              "      fill: #D2E3FC;\n",
              "    }\n",
              "\n",
              "    [theme=dark] .colab-df-convert:hover {\n",
              "      background-color: #434B5C;\n",
              "      box-shadow: 0px 1px 3px 1px rgba(0, 0, 0, 0.15);\n",
              "      filter: drop-shadow(0px 1px 2px rgba(0, 0, 0, 0.3));\n",
              "      fill: #FFFFFF;\n",
              "    }\n",
              "  </style>\n",
              "\n",
              "      <script>\n",
              "        const buttonEl =\n",
              "          document.querySelector('#df-d23f1e9b-234a-4026-b937-0677d99dea14 button.colab-df-convert');\n",
              "        buttonEl.style.display =\n",
              "          google.colab.kernel.accessAllowed ? 'block' : 'none';\n",
              "\n",
              "        async function convertToInteractive(key) {\n",
              "          const element = document.querySelector('#df-d23f1e9b-234a-4026-b937-0677d99dea14');\n",
              "          const dataTable =\n",
              "            await google.colab.kernel.invokeFunction('convertToInteractive',\n",
              "                                                     [key], {});\n",
              "          if (!dataTable) return;\n",
              "\n",
              "          const docLinkHtml = 'Like what you see? Visit the ' +\n",
              "            '<a target=\"_blank\" href=https://colab.research.google.com/notebooks/data_table.ipynb>data table notebook</a>'\n",
              "            + ' to learn more about interactive tables.';\n",
              "          element.innerHTML = '';\n",
              "          dataTable['output_type'] = 'display_data';\n",
              "          await google.colab.output.renderOutput(dataTable, element);\n",
              "          const docLink = document.createElement('div');\n",
              "          docLink.innerHTML = docLinkHtml;\n",
              "          element.appendChild(docLink);\n",
              "        }\n",
              "      </script>\n",
              "    </div>\n",
              "  </div>\n",
              "  "
            ]
          },
          "metadata": {},
          "execution_count": 9
        }
      ],
      "source": [
        "dframe[dframe['sp_ha'].isna()]"
      ]
    },
    {
      "cell_type": "code",
      "execution_count": 10,
      "metadata": {
        "id": "EWb9FbVNY52w"
      },
      "outputs": [],
      "source": [
        "dframe=dframe.dropna()"
      ]
    },
    {
      "cell_type": "code",
      "execution_count": 11,
      "metadata": {
        "colab": {
          "base_uri": "https://localhost:8080/"
        },
        "id": "in_wgtw6XRYN",
        "outputId": "6161428e-881d-401b-e55c-d22b23565341"
      },
      "outputs": [
        {
          "output_type": "execute_result",
          "data": {
            "text/plain": [
              "0                                                                                                                                                                                                                                                                                                                                                                                                                                                                                                                                            3911\n",
              "1                                                                                                                                                                                                                                                                                                                                                                                                                                                                                                                                            1912\n",
              " WebCrawler                                                                                                                                                                                                                                                                                                                                                                                                                                                                                                                                     1\n",
              " which will make unison use whatever version of ssh is installed as the default 'ssh' command.) + The situation when the permissions of a file was updated the same on both side is now handled correctly (we used to report a spurious conflict) * Improvements for the Windows version: + The fact that filenames are treated case-insensitively under Windows should now be handled correctly. The exact behavior is described in the cross-platform section of the manual. + It should be possible to synchronize with Windows shares       1\n",
              "Name: sp_ha, dtype: int64"
            ]
          },
          "metadata": {},
          "execution_count": 11
        }
      ],
      "source": [
        "dframe['sp_ha'].value_counts()"
      ]
    },
    {
      "cell_type": "markdown",
      "metadata": {
        "id": "yE7xV8eFlIf0"
      },
      "source": [
        "Removing values other than 0 or 1"
      ]
    },
    {
      "cell_type": "code",
      "execution_count": 12,
      "metadata": {
        "colab": {
          "base_uri": "https://localhost:8080/"
        },
        "id": "LFg_5Y5vc90z",
        "outputId": "91c7655f-ad61-4caa-891c-1327b99c79d3"
      },
      "outputs": [
        {
          "output_type": "execute_result",
          "data": {
            "text/plain": [
              "0    3911\n",
              "1    1912\n",
              "Name: sp_ha, dtype: int64"
            ]
          },
          "metadata": {},
          "execution_count": 12
        }
      ],
      "source": [
        "dframe1=dframe[(dframe.sp_ha.isin(['0','1']))]\n",
        "dframe1.sp_ha.value_counts()"
      ]
    },
    {
      "cell_type": "markdown",
      "metadata": {
        "id": "Tnmr-JtMAdH-"
      },
      "source": [
        "Drop duplicate"
      ]
    },
    {
      "cell_type": "code",
      "execution_count": 13,
      "metadata": {
        "colab": {
          "base_uri": "https://localhost:8080/"
        },
        "id": "ZtEoEuS7Ae83",
        "outputId": "34414e32-a1dc-4f3b-bd7d-219edbc75700"
      },
      "outputs": [
        {
          "output_type": "stream",
          "name": "stderr",
          "text": [
            "<ipython-input-13-a39617d064bc>:1: SettingWithCopyWarning: \n",
            "A value is trying to be set on a copy of a slice from a DataFrame\n",
            "\n",
            "See the caveats in the documentation: https://pandas.pydata.org/pandas-docs/stable/user_guide/indexing.html#returning-a-view-versus-a-copy\n",
            "  dframe1.drop_duplicates(inplace=True)\n"
          ]
        }
      ],
      "source": [
        "dframe1.drop_duplicates(inplace=True)"
      ]
    },
    {
      "cell_type": "markdown",
      "metadata": {
        "id": "6tqw0c3mEbLp"
      },
      "source": [
        "Refining text"
      ]
    },
    {
      "cell_type": "code",
      "execution_count": 14,
      "metadata": {
        "id": "qlJ95tHtEc1o"
      },
      "outputs": [],
      "source": [
        "strngg_2=re.sub(r'^.*?Subject', 'Subject', strngg)"
      ]
    },
    {
      "cell_type": "code",
      "execution_count": 15,
      "metadata": {
        "colab": {
          "base_uri": "https://localhost:8080/",
          "height": 174
        },
        "id": "2cdiS2DzN8uf",
        "outputId": "a8d63025-dea1-4256-bab9-8d70e4fc980a"
      },
      "outputs": [
        {
          "output_type": "execute_result",
          "data": {
            "text/plain": [
              "'Subject: Cash in on your home equity Date: Tue, 04 Jun 2002 00:18:34 -1600 MIME-Version: 1.0 Content-Type: text/plain; charset=\"Windows-1252\" X-Keywords: Content-Transfer-Encoding: 7bit Mortgage Lenders & Brokers Are Ready to compete for your business. Whether a new home loan is what you seek or to refinance your current home loan at a lower interest rate, we can help! Mortgage rates haven\\'t been this low in years take action now! Refinance your home with us and include all of those pesky credit card bills or use the extra cash for that pool you\\'ve always wanted... Where others say NO, we say YES!!! Even if you have been turned down elsewhere, we can help! Easy terms! Our mortgage referral service combines the highest quality loans with the most economical rates and the easiest qualifications! Take just 2 minutes to complete the following form. There is no obligation, all information is kept strictly confidential, and you must be at least 18 years of age. Service is available within the United States only. This service is fast and free. Free information request form: PLEASE VISIT  **************************************************************** Since you have received this message you have either responded to one of our offers in the past or your address has been registered with us. If you wish to \"OPT_OUT\" please visit:  ****************************************************************'"
            ],
            "application/vnd.google.colaboratory.intrinsic+json": {
              "type": "string"
            }
          },
          "metadata": {},
          "execution_count": 15
        }
      ],
      "source": [
        "strngg_3 = re.sub('http[^\\s]+','',strngg_2)\n",
        "strngg_3"
      ]
    },
    {
      "cell_type": "code",
      "execution_count": 16,
      "metadata": {
        "id": "7yyww--GPPYo"
      },
      "outputs": [],
      "source": [
        "strngg_4=strngg_3.replace(r'^.*?','')"
      ]
    },
    {
      "cell_type": "code",
      "execution_count": 17,
      "metadata": {
        "colab": {
          "base_uri": "https://localhost:8080/",
          "height": 174
        },
        "id": "CMjYuyCaPV5C",
        "outputId": "8edb6d3a-789c-422f-a105-db37046bae8b"
      },
      "outputs": [
        {
          "output_type": "execute_result",
          "data": {
            "text/plain": [
              "'Subject: Cash in on your home equity Date: Tue, 04 Jun 2002 00:18:34 -1600 MIME-Version: 1.0 Content-Type: text/plain; charset=\"Windows-1252\" X-Keywords: Content-Transfer-Encoding: 7bit Mortgage Lenders & Brokers Are Ready to compete for your business. Whether a new home loan is what you seek or to refinance your current home loan at a lower interest rate, we can help! Mortgage rates haven\\'t been this low in years take action now! Refinance your home with us and include all of those pesky credit card bills or use the extra cash for that pool you\\'ve always wanted... Where others say NO, we say YES!!! Even if you have been turned down elsewhere, we can help! Easy terms! Our mortgage referral service combines the highest quality loans with the most economical rates and the easiest qualifications! Take just 2 minutes to complete the following form. There is no obligation, all information is kept strictly confidential, and you must be at least 18 years of age. Service is available within the United States only. This service is fast and free. Free information request form: PLEASE VISIT  **************************************************************** Since you have received this message you have either responded to one of our offers in the past or your address has been registered with us. If you wish to \"OPT_OUT\" please visit:  ****************************************************************'"
            ],
            "application/vnd.google.colaboratory.intrinsic+json": {
              "type": "string"
            }
          },
          "metadata": {},
          "execution_count": 17
        }
      ],
      "source": [
        "strngg_4"
      ]
    },
    {
      "cell_type": "code",
      "execution_count": 18,
      "metadata": {
        "id": "BMfEEVSTyAJ5"
      },
      "outputs": [],
      "source": [
        "from bs4 import BeautifulSoup"
      ]
    },
    {
      "cell_type": "code",
      "execution_count": 19,
      "metadata": {
        "id": "xAMjA7CC0H1S"
      },
      "outputs": [],
      "source": [
        "content = BeautifulSoup(dummy, \"lxml\")"
      ]
    },
    {
      "cell_type": "code",
      "execution_count": 20,
      "metadata": {
        "colab": {
          "base_uri": "https://localhost:8080/",
          "height": 174
        },
        "id": "fF6_UEgm0iPX",
        "outputId": "6c8e62a9-4c93-4833-fc14-d2780f42e906"
      },
      "outputs": [
        {
          "output_type": "execute_result",
          "data": {
            "text/plain": [
              "'From leadsales400042@yahoo.com Mon Jun 24 17:03:55 2002 Return-Path: leadsales400042@yahoo.com Delivery-Date: Wed May 15 16:24:17 2002 Received: from MIRAFLORES.GOB.PE ([161.132.70.10]) by dogma.slashnull.org (8.11.6/8.11.6) with ESMTP id g4FFOAe12470 for <webmaster@efi.ie>; Wed, 15 May 2002 16:24:10 +0100 Message-Id: <200205151524.g4FFOAe12470@dogma.slashnull.org> Received: from yahoo.com([208.166.82.124]) by MIRAFLORES.GOB.PE (IBM OS/400 SMTP V05R01M00) with TCP; Wed, 15 May 2002 10:23:51 +0000 From: leadsales400042@yahoo.com To: webmaster@efi.ie Subject: Got Leads? Date: 15 May 2002 20:34:36 -0700 MIME-Version: 1.0 X-Keywords: Content-Type: text/html Content-Transfer-Encoding: quoted-printable <html> HEY, I AM FORWARDING YOU THE AD THEY SENT ME. I TRIED THE LEADS AND THINK WE SHOULD USE THEM FOR OUR TEAM. WHAT DO YOU THINK? THANKS, JOHN <head> <meta http-equiv=3D\"Content-Type\" content=3D\"text/html; charset=3Dwindows= -1252\"> <meta name=3D\"GENERATOR\" content=3D\"Microsoft FrontPage 4.0\"> <meta name=3D\"ProgId\" content=3D\"FrontPage.Editor.Document\"> <title>LEAD SALE EXTENDED</title> </head> <body text=3D\"#000000\"> <form method=3D\"POST\" enctype=3D\"text/plain\" action=3D\"mailto:thekey@btam= ail.net.cn?subject=3DNeed Leads\"> <p><b> YOU HAVE BEEN INVITED TO JOIN THE CO-OP</b></p> <table border=3D\"1\" width=3D\"102%\" bordercolor=3D\"#000080\" bgcolor=3D\"#= 000080\"> <tr> <td width=3D\"100%\"><b><font size=3D\"7\" color=3D\"#FFFFFF\">LEAD SALE = EXTENDED</font></b></td> </tr> </table> <table border=3D\"0\" width=3D\"100%\"> <tr> <td width=3D\"100%\"> <p align=3D\"center\"><b><font size=3D\"3\" color=3D\"#000000\">We have= recently put together a lead co-op specifically for your group.&nbsp; We have = been able to lock the price at as little as 50 cents per lead!!&nbsp; = Leads are normally $1-$3 per...</font></b></td> </tr> </table> <table border=3D\"0\" width=3D\"100%\"> <tr> <td width=3D\"16%\" bordercolor=3D\"#FFFFFF\" bgcolor=3D\"#FFFFFF\">&nbsp= ;</td> <td width=3D\"84%\"> <ul> <li> <p align=3D\"left\"><b><font size=3D\"3\" color=3D\"#000000\">So...= .</font></b></li> <li> <p align=3D\"left\"><b><font size=3D\"3\" color=3D\"#000000\">SIGN = UP TODAY....</font></b></li> <li> <p align=3D\"left\"><b><font size=3D\"3\" color=3D\"#000000\">GET O= UR LEADS....</font></b></li> <li> <p align=3D\"left\"><b><font size=3D\"3\" color=3D\"#000000\">AND G= ET TO WORK!!</font></b></li> </ul> <table border=3D\"0\" width=3D\"100%\" bordercolor=3D\"#000080\" bgcolo= r=3D\"#000080\"> <tbody> <tr> <td bgColor=3D\"#000000\" width=3D\"100%\"> <b><font color=3D\"#FF0000\" size=3D\"5\">Here is what we hav= e to offer you:</font></b> </td> </tr> </tbody> </table> <table border=3D\"0\" width=3D\"100%\"> <tbody> <tr> <td width=3D\"78%\"> <b><u>NETWORK MARKETER OR GIFTER CONTACTS</u></b> <ul> <li><b>All Leads Guaranteed To Be Network Marketers / o= r Gifters</b> <li><b>Guaranteed To Be Current, Active and Experienced= </b> <li><b>Leads, Have Either Responded To A Internet Quest= ionnaire, Or Are Already On Our Contact List, Of Current, Active Networkers, Open To Opportunity.</b> <li><b>Leads Include:&nbsp;&nbsp;&nbsp;&nbsp;[At Least]= Name, Phone, And Email</b></li> </ul> <p>&nbsp; </td> </tr> </tbody> </table> </td> </tr> </table> <p align=3D\"center\"><b>***USE US AS A TOOL TO BUILD YOUR BUSINESS!!&nbs= p; REFER AS MANY PEOPLE AS YOU CAN.&nbsp; EARN A TRUE RESIDUAL INCOME BY THE DUPLICATION OF YOUR TEAM, CAUSE REMEMBER......</b></p> <table border=3D\"0\" width=3D\"100%\"> <tr> <td width=3D\"100%\" bgcolor=3D\"#000000\" bordercolor=3D\"#000000\"> <p align=3D\"center\"><b><font color=3D\"#FF0000\">[Remember] </font>= <font color=3D\"#FFFFFF\">&nbsp; </font></b><font color=3D\"#FFFFFF\" size=3D\"3\"><b>Your System Now Includes A Proven Lead System.&nbsp; </b></font><b><font size=3D\"= 2\" color=3D\"#FFFFFF\">&nbsp;&nbsp;&nbsp; </font><font color=3D\"#FF0000\"><font size=3D\"2\">[</font>Remember]= </font></b></td> </tr> </table> <p>____________________________________________________________________= _</p> <table border=3D\"0\" width=3D\"100%\"> <tr> <td width=3D\"100%\"> <p align=3D\"center\"><b><font color=3D\"#FF0000\" size=3D\"5\">Replace= ment Policy [Our Leads Are Guaranteed]</font></b></p> <ul> <li> <p align=3D\"left\"><b>Any Unusable Lead&nbsp;&nbsp; Ie. Missin= g Info, Invalid Info, Any Just Real Negative Response Towards You On = The Phone..... <font color=3D\"#ff0000\">REPLACED</font></b></p> </li> </ul> <table border=3D\"0\" width=3D\"100%\"> <tr> <td width=3D\"100%\" bgcolor=3D\"#000000\" bordercolor=3D\"#000000= \"> <p align=3D\"center\"><b><font color=3D\"#ff0000\">Replacement = Leads Given -&nbsp; No Questions Asked.&nbsp; Just Let Us Know What You= Need And We Will Get It Handled.</font></b></td> </tr> </table> <p align=3D\"center\"><b><font color=3D\"#000000\">PLEASE COMPLETE TH= E FOLLOWING FORM&nbsp;</font></b></p> </td> </tr> </table> <table border=3D\"1\" width=3D\"100%\" bordercolor=3D\"#000000\" bgcolor=3D\"#= 000000\"> <tr> <td width=3D\"100%\"> <table border=3D\"0\" width=3D\"100%\"> <tr> <td width=3D\"20%\" align=3D\"right\"><b><font size=3D\"3\" color=3D= \"#FFFFFF\">NAME</font></b></td> <td width=3D\"20%\" align=3D\"left\"> <p align=3D\"left\"><font color=3D\"#FFFFFF\"><input type=3D\"te= xt\" name=3D\"Name\" size=3D\"20\"></font></td> <td width=3D\"20%\" align=3D\"right\"><b><font size=3D\"3\" color=3D= \"#FFFFFF\">PHONE</font></b></td> <td width=3D\"20%\"><font color=3D\"#FFFFFF\"><input type=3D\"text= \" name=3D\"Phone\" size=3D\"20\"></font></td> </tr> <tr> <td width=3D\"20%\" align=3D\"right\"><b><font size=3D\"3\" color=3D= \"#FFFFFF\">EMAIL</font></b></td> <td width=3D\"20%\" align=3D\"left\"><font color=3D\"#FFFFFF\"><inp= ut type=3D\"text\" name=3D\"Email\" size=3D\"20\"></font></td> <td width=3D\"20%\" align=3D\"right\"><b><font size=3D\"3\" color=3D= \"#FFFFFF\">TIME TO CALL</font></b></td> <td width=3D\"20%\"><font color=3D\"#FFFFFF\"><input type=3D\"text= \" name=3D\"Time2Call\" size=3D\"18\"><select size=3D\"1\" name=3D\"TimeZone\"> <option>PST</option> <option>MNT</option> <option>CST</option> <option>EST</option> <option>OTHER</option> </select></font></td> </tr> <tr> <td width=3D\"20%\" align=3D\"right\"><b><font size=3D\"3\" color=3D= \"#FFFFFF\">COMPANY YOU ARE WITH</font></b></td> <td width=3D\"60%\" align=3D\"left\" colspan=3D\"3\"><font color=3D= \"#FFFFFF\"><input type=3D\"text\" name=3D\"Company\" size=3D\"50\"></font></td> </tr> <tr> <td width=3D\"20%\" align=3D\"right\"><font color=3D\"#FFFFFF\"><in= put type=3D\"text\" name=3D\"DOWNLINE_MEMBERS\" size=3D\"13\"></font></td> <td width=3D\"60%\" align=3D\"left\" colspan=3D\"3\"><b><font color= =3D\"#FFFFFF\">HOW MANY DOWNLINE MEMBERS DO YOU HAVE THAT MAY ALSO NEED LEADS?= </font></b></td> </tr> </table> <p align=3D\"center\"><input type=3D\"submit\" value=3D\"Submit\" name=3D= \"B1\"><input type=3D\"reset\" value=3D\"Reset\" name=3D\"B2\"></p> &nbsp;</td> </tr> </table> <p align=3D\"center\">&nbsp;</p> <p align=3D\"center\">&nbsp;</p> <p align=3D\"center\">&nbsp;</p> <p align=3D\"center\">&nbsp;</p> <p align=3D\"center\">&nbsp;</p> <p align=3D\"center\">&nbsp;</p> <p align=3D\"center\">&nbsp;</p> <p align=3D\"center\"><b><font size=3D\"2\"><font color=3D\"#000000\">You hav= e received this Message because of a past Client/Service Relationship we had with you. = If this might be inaccurate, or you simply wish to be Removed from all future N= otices, then</font><font color=3D\"#FF0000\"> <a href=3D\"mailto:removes@btamail.= net.cn?subject=3DRemove\" target=3D\"_blank\">CLICK HERE</a></font></font></b></p> <table border=3D\"0\" width=3D\"100%\"> <tr> <td width=3D\"100%\" bgcolor=3D\"#000000\" bordercolor=3D\"#000000\"><fon= t size=3D\"5\">&nbsp;</font></td> </tr> </table> </form> </body> </html>'"
            ],
            "application/vnd.google.colaboratory.intrinsic+json": {
              "type": "string"
            }
          },
          "metadata": {},
          "execution_count": 20
        }
      ],
      "source": [
        "dummy"
      ]
    },
    {
      "cell_type": "code",
      "execution_count": 21,
      "metadata": {
        "colab": {
          "base_uri": "https://localhost:8080/"
        },
        "collapsed": true,
        "id": "kzdW2UZv0bHz",
        "outputId": "ee2f5355-ea9e-42e2-d455-0e2802119f6b"
      },
      "outputs": [
        {
          "output_type": "stream",
          "name": "stdout",
          "text": [
            "<body>\n",
            " <p>\n",
            "  From leadsales400042@yahoo.com Mon Jun 24 17:03:55 2002 Return-Path: leadsales400042@yahoo.com Delivery-Date: Wed May 15 16:24:17 2002 Received: from MIRAFLORES.GOB.PE ([161.132.70.10]) by dogma.slashnull.org (8.11.6/8.11.6) with ESMTP id g4FFOAe12470 for\n",
            "  <webmaster>\n",
            "   ; Wed, 15 May 2002 16:24:10 +0100 Message-Id: &lt;200205151524.g4FFOAe12470@dogma.slashnull.org&gt; Received: from yahoo.com([208.166.82.124]) by MIRAFLORES.GOB.PE (IBM OS/400 SMTP V05R01M00) with TCP; Wed, 15 May 2002 10:23:51 +0000 From: leadsales400042@yahoo.com To: webmaster@efi.ie Subject: Got Leads? Date: 15 May 2002 20:34:36 -0700 MIME-Version: 1.0 X-Keywords: Content-Type: text/html Content-Transfer-Encoding: quoted-printable  HEY, I AM FORWARDING YOU THE AD THEY SENT ME. I TRIED THE LEADS AND THINK WE SHOULD USE THEM FOR OUR TEAM. WHAT DO YOU THINK? THANKS, JOHN\n",
            "   <meta charset=\"utf-8\" content='3D\"text/html;' http-equiv='3D\"Content-Type\"'/>\n",
            "   <meta content='3D\"Microsoft' frontpage=\"\" name='3D\"GENERATOR\"'/>\n",
            "   <meta content='3D\"FrontPage.Editor.Document\"' name='3D\"ProgId\"'/>\n",
            "   <title>\n",
            "    LEAD SALE EXTENDED\n",
            "   </title>\n",
            "   <form action='3D\"mailto:thekey@btam=' ail.net.cn=\"\" enctype='3D\"text/plain\"' leads=\"\" method='3D\"POST\"'>\n",
            "    <p>\n",
            "     <b>\n",
            "      YOU HAVE BEEN INVITED TO JOIN THE CO-OP\n",
            "     </b>\n",
            "    </p>\n",
            "    <table bgcolor='3D\"#=' border='3D\"1\"' bordercolor='3D\"#000080\"' width='3D\"102%\"'>\n",
            "     <tr>\n",
            "      <td width='3D\"100%\"'>\n",
            "       <b>\n",
            "        <font color='3D\"#FFFFFF\"' size='3D\"7\"'>\n",
            "         LEAD SALE = EXTENDED\n",
            "        </font>\n",
            "       </b>\n",
            "      </td>\n",
            "     </tr>\n",
            "    </table>\n",
            "    <table border='3D\"0\"' width='3D\"100%\"'>\n",
            "     <tr>\n",
            "      <td width='3D\"100%\"'>\n",
            "       <p align='3D\"center\"'>\n",
            "        <b>\n",
            "         <font color='3D\"#000000\"' size='3D\"3\"'>\n",
            "          We have= recently put together a lead co-op specifically for your group.  We have = been able to lock the price at as little as 50 cents per lead!!  = Leads are normally $1-$3 per...\n",
            "         </font>\n",
            "        </b>\n",
            "       </p>\n",
            "      </td>\n",
            "     </tr>\n",
            "    </table>\n",
            "    <table border='3D\"0\"' width='3D\"100%\"'>\n",
            "     <tr>\n",
            "      <td bgcolor='3D\"#FFFFFF\"' bordercolor='3D\"#FFFFFF\"' width='3D\"16%\"'>\n",
            "       &amp;nbsp= ;\n",
            "      </td>\n",
            "      <td width='3D\"84%\"'>\n",
            "       <ul>\n",
            "        <li>\n",
            "         <p align='3D\"left\"'>\n",
            "          <b>\n",
            "           <font color='3D\"#000000\"' size='3D\"3\"'>\n",
            "            So...= .\n",
            "           </font>\n",
            "          </b>\n",
            "         </p>\n",
            "        </li>\n",
            "        <li>\n",
            "         <p align='3D\"left\"'>\n",
            "          <b>\n",
            "           <font color='3D\"#000000\"' size='3D\"3\"'>\n",
            "            SIGN = UP TODAY....\n",
            "           </font>\n",
            "          </b>\n",
            "         </p>\n",
            "        </li>\n",
            "        <li>\n",
            "         <p align='3D\"left\"'>\n",
            "          <b>\n",
            "           <font color='3D\"#000000\"' size='3D\"3\"'>\n",
            "            GET O= UR LEADS....\n",
            "           </font>\n",
            "          </b>\n",
            "         </p>\n",
            "        </li>\n",
            "        <li>\n",
            "         <p align='3D\"left\"'>\n",
            "          <b>\n",
            "           <font color='3D\"#000000\"' size='3D\"3\"'>\n",
            "            AND G= ET TO WORK!!\n",
            "           </font>\n",
            "          </b>\n",
            "         </p>\n",
            "        </li>\n",
            "       </ul>\n",
            "       <table bgcolo='r=3D\"#000080\"' border='3D\"0\"' bordercolor='3D\"#000080\"' width='3D\"100%\"'>\n",
            "        <tbody>\n",
            "         <tr>\n",
            "          <td bgcolor='3D\"#000000\"' width='3D\"100%\"'>\n",
            "           <b>\n",
            "            <font color='3D\"#FF0000\"' size='3D\"5\"'>\n",
            "             Here is what we hav= e to offer you:\n",
            "            </font>\n",
            "           </b>\n",
            "          </td>\n",
            "         </tr>\n",
            "        </tbody>\n",
            "       </table>\n",
            "       <table border='3D\"0\"' width='3D\"100%\"'>\n",
            "        <tbody>\n",
            "         <tr>\n",
            "          <td width='3D\"78%\"'>\n",
            "           <b>\n",
            "            <u>\n",
            "             NETWORK MARKETER OR GIFTER CONTACTS\n",
            "            </u>\n",
            "           </b>\n",
            "           <ul>\n",
            "            <li>\n",
            "             <b>\n",
            "              All Leads Guaranteed To Be Network Marketers / o= r Gifters\n",
            "             </b>\n",
            "            </li>\n",
            "            <li>\n",
            "             <b>\n",
            "              Guaranteed To Be Current, Active and Experienced=\n",
            "             </b>\n",
            "            </li>\n",
            "            <li>\n",
            "             <b>\n",
            "              Leads, Have Either Responded To A Internet Quest= ionnaire, Or Are Already On Our Contact List, Of Current, Active Networkers, Open To Opportunity.\n",
            "             </b>\n",
            "            </li>\n",
            "            <li>\n",
            "             <b>\n",
            "              Leads Include:    [At Least]= Name, Phone, And Email\n",
            "             </b>\n",
            "            </li>\n",
            "           </ul>\n",
            "           <p>\n",
            "           </p>\n",
            "          </td>\n",
            "         </tr>\n",
            "        </tbody>\n",
            "       </table>\n",
            "      </td>\n",
            "     </tr>\n",
            "    </table>\n",
            "    <p align='3D\"center\"'>\n",
            "     <b>\n",
            "      ***USE US AS A TOOL TO BUILD YOUR BUSINESS!!&amp;nbs= p; REFER AS MANY PEOPLE AS YOU CAN.  EARN A TRUE RESIDUAL INCOME BY THE DUPLICATION OF YOUR TEAM, CAUSE REMEMBER......\n",
            "     </b>\n",
            "    </p>\n",
            "    <table border='3D\"0\"' width='3D\"100%\"'>\n",
            "     <tr>\n",
            "      <td bgcolor='3D\"#000000\"' bordercolor='3D\"#000000\"' width='3D\"100%\"'>\n",
            "       <p align='3D\"center\"'>\n",
            "        <b>\n",
            "         <font color='3D\"#FF0000\"'>\n",
            "          [Remember]\n",
            "         </font>\n",
            "         =\n",
            "         <font color='3D\"#FFFFFF\"'>\n",
            "         </font>\n",
            "        </b>\n",
            "        <font color='3D\"#FFFFFF\"' size='3D\"3\"'>\n",
            "         <b>\n",
            "          Your System Now Includes A Proven Lead System.\n",
            "         </b>\n",
            "        </font>\n",
            "        <b>\n",
            "         <font color='3D\"#FFFFFF\"' size='3D\"='>\n",
            "         </font>\n",
            "         <font color='3D\"#FF0000\"'>\n",
            "          <font size='3D\"2\"'>\n",
            "           [\n",
            "          </font>\n",
            "          Remember]=\n",
            "         </font>\n",
            "        </b>\n",
            "       </p>\n",
            "      </td>\n",
            "     </tr>\n",
            "    </table>\n",
            "    <p>\n",
            "     ____________________________________________________________________= _\n",
            "    </p>\n",
            "    <table border='3D\"0\"' width='3D\"100%\"'>\n",
            "     <tr>\n",
            "      <td width='3D\"100%\"'>\n",
            "       <p align='3D\"center\"'>\n",
            "        <b>\n",
            "         <font color='3D\"#FF0000\"' size='3D\"5\"'>\n",
            "          Replace= ment Policy [Our Leads Are Guaranteed]\n",
            "         </font>\n",
            "        </b>\n",
            "       </p>\n",
            "       <ul>\n",
            "        <li>\n",
            "         <p align='3D\"left\"'>\n",
            "          <b>\n",
            "           Any Unusable Lead   Ie. Missin= g Info, Invalid Info, Any Just Real Negative Response Towards You On = The Phone.....\n",
            "           <font color='3D\"#ff0000\"'>\n",
            "            REPLACED\n",
            "           </font>\n",
            "          </b>\n",
            "         </p>\n",
            "        </li>\n",
            "       </ul>\n",
            "       <table border='3D\"0\"' width='3D\"100%\"'>\n",
            "        <tr>\n",
            "         <td bgcolor='3D\"#000000\"' bordercolor='3D\"#000000=' width='3D\"100%\"'>\n",
            "          <p align='3D\"center\"'>\n",
            "           <b>\n",
            "            <font color='3D\"#ff0000\"'>\n",
            "             Replacement = Leads Given -  No Questions Asked.  Just Let Us Know What You= Need And We Will Get It Handled.\n",
            "            </font>\n",
            "           </b>\n",
            "          </p>\n",
            "         </td>\n",
            "        </tr>\n",
            "       </table>\n",
            "       <p align='3D\"center\"'>\n",
            "        <b>\n",
            "         <font color='3D\"#000000\"'>\n",
            "          PLEASE COMPLETE TH= E FOLLOWING FORM\n",
            "         </font>\n",
            "        </b>\n",
            "       </p>\n",
            "      </td>\n",
            "     </tr>\n",
            "    </table>\n",
            "    <table bgcolor='3D\"#=' border='3D\"1\"' bordercolor='3D\"#000000\"' width='3D\"100%\"'>\n",
            "     <tr>\n",
            "      <td width='3D\"100%\"'>\n",
            "       <table border='3D\"0\"' width='3D\"100%\"'>\n",
            "        <tr>\n",
            "         <td align='3D\"right\"' width='3D\"20%\"'>\n",
            "          <b>\n",
            "           <font color=\"3D=\" size='3D\"3\"'>\n",
            "            NAME\n",
            "           </font>\n",
            "          </b>\n",
            "         </td>\n",
            "         <td align='3D\"left\"' width='3D\"20%\"'>\n",
            "          <p align='3D\"left\"'>\n",
            "           <font color='3D\"#FFFFFF\"'>\n",
            "            <input name='3D\"Name\"' size='3D\"20\"' type='3D\"te=' xt=\"\"/>\n",
            "           </font>\n",
            "          </p>\n",
            "         </td>\n",
            "         <td align='3D\"right\"' width='3D\"20%\"'>\n",
            "          <b>\n",
            "           <font color=\"3D=\" size='3D\"3\"'>\n",
            "            PHONE\n",
            "           </font>\n",
            "          </b>\n",
            "         </td>\n",
            "         <td width='3D\"20%\"'>\n",
            "          <font color='3D\"#FFFFFF\"'>\n",
            "           <input name='3D\"Phone\"' size='3D\"20\"' type='3D\"text='/>\n",
            "          </font>\n",
            "         </td>\n",
            "        </tr>\n",
            "        <tr>\n",
            "         <td align='3D\"right\"' width='3D\"20%\"'>\n",
            "          <b>\n",
            "           <font color=\"3D=\" size='3D\"3\"'>\n",
            "            EMAIL\n",
            "           </font>\n",
            "          </b>\n",
            "         </td>\n",
            "         <td align='3D\"left\"' width='3D\"20%\"'>\n",
            "          <font color='3D\"#FFFFFF\"'>\n",
            "           <inp name='3D\"Email\"' size='3D\"20\"' type='3D\"text\"' ut=\"\">\n",
            "           </inp>\n",
            "          </font>\n",
            "         </td>\n",
            "         <td align='3D\"right\"' width='3D\"20%\"'>\n",
            "          <b>\n",
            "           <font color=\"3D=\" size='3D\"3\"'>\n",
            "            TIME TO CALL\n",
            "           </font>\n",
            "          </b>\n",
            "         </td>\n",
            "         <td width='3D\"20%\"'>\n",
            "          <font color='3D\"#FFFFFF\"'>\n",
            "           <input name='3D\"Time2Call\"' size='3D\"18\"' type='3D\"text='/>\n",
            "           <select name='3D\"TimeZone\"' size='3D\"1\"'>\n",
            "            <option>\n",
            "             PST\n",
            "            </option>\n",
            "            <option>\n",
            "             MNT\n",
            "            </option>\n",
            "            <option>\n",
            "             CST\n",
            "            </option>\n",
            "            <option>\n",
            "             EST\n",
            "            </option>\n",
            "            <option>\n",
            "             OTHER\n",
            "            </option>\n",
            "           </select>\n",
            "          </font>\n",
            "         </td>\n",
            "        </tr>\n",
            "        <tr>\n",
            "         <td align='3D\"right\"' width='3D\"20%\"'>\n",
            "          <b>\n",
            "           <font color=\"3D=\" size='3D\"3\"'>\n",
            "            COMPANY YOU ARE WITH\n",
            "           </font>\n",
            "          </b>\n",
            "         </td>\n",
            "         <td align='3D\"left\"' colspan='3D\"3\"' width='3D\"60%\"'>\n",
            "          <font color=\"3D=\">\n",
            "           <input name='3D\"Company\"' size='3D\"50\"' type='3D\"text\"'/>\n",
            "          </font>\n",
            "         </td>\n",
            "        </tr>\n",
            "        <tr>\n",
            "         <td align='3D\"right\"' width='3D\"20%\"'>\n",
            "          <font color='3D\"#FFFFFF\"'>\n",
            "           <in name='3D\"DOWNLINE_MEMBERS\"' put=\"\" size='3D\"13\"' type='3D\"text\"'>\n",
            "           </in>\n",
            "          </font>\n",
            "         </td>\n",
            "         <td align='3D\"left\"' colspan='3D\"3\"' width='3D\"60%\"'>\n",
            "          <b>\n",
            "           <font color='=3D\"#FFFFFF\"'>\n",
            "            HOW MANY DOWNLINE MEMBERS DO YOU HAVE THAT MAY ALSO NEED LEADS?=\n",
            "           </font>\n",
            "          </b>\n",
            "         </td>\n",
            "        </tr>\n",
            "       </table>\n",
            "       <p align='3D\"center\"'>\n",
            "        <input name=\"3D=\" type='3D\"submit\"' value='3D\"Submit\"'/>\n",
            "        <input name='3D\"B2\"' type='3D\"reset\"' value='3D\"Reset\"'/>\n",
            "       </p>\n",
            "      </td>\n",
            "     </tr>\n",
            "    </table>\n",
            "    <p align='3D\"center\"'>\n",
            "    </p>\n",
            "    <p align='3D\"center\"'>\n",
            "    </p>\n",
            "    <p align='3D\"center\"'>\n",
            "    </p>\n",
            "    <p align='3D\"center\"'>\n",
            "    </p>\n",
            "    <p align='3D\"center\"'>\n",
            "    </p>\n",
            "    <p align='3D\"center\"'>\n",
            "    </p>\n",
            "    <p align='3D\"center\"'>\n",
            "    </p>\n",
            "    <p align='3D\"center\"'>\n",
            "     <b>\n",
            "      <font size='3D\"2\"'>\n",
            "       <font color='3D\"#000000\"'>\n",
            "        You hav= e received this Message because of a past Client/Service Relationship we had with you. = If this might be inaccurate, or you simply wish to be Removed from all future N= otices, then\n",
            "       </font>\n",
            "       <font color='3D\"#FF0000\"'>\n",
            "        <a href='3D\"mailto:removes@btamail.=' net.cn=\"\" target='3D\"_blank\"'>\n",
            "         CLICK HERE\n",
            "        </a>\n",
            "       </font>\n",
            "      </font>\n",
            "     </b>\n",
            "    </p>\n",
            "    <table border='3D\"0\"' width='3D\"100%\"'>\n",
            "     <tr>\n",
            "      <td bgcolor='3D\"#000000\"' bordercolor='3D\"#000000\"' width='3D\"100%\"'>\n",
            "       <fon size='3D\"5\"' t=\"\">\n",
            "       </fon>\n",
            "      </td>\n",
            "     </tr>\n",
            "    </table>\n",
            "   </form>\n",
            "  </webmaster>\n",
            " </p>\n",
            "</body>\n"
          ]
        }
      ],
      "source": [
        "print(content.body.prettify())"
      ]
    },
    {
      "cell_type": "code",
      "execution_count": 22,
      "metadata": {
        "id": "ff0Sjtvo3xsi"
      },
      "outputs": [],
      "source": [
        "\n",
        "job_elements = content.find_all(\"font\")\n",
        "for job_element in job_elements:\n",
        "    title_element = job_element.find(\"font\")"
      ]
    },
    {
      "cell_type": "code",
      "execution_count": 23,
      "metadata": {
        "id": "GvtN1iegR9g3"
      },
      "outputs": [],
      "source": [
        "soup = BeautifulSoup(dummy, features=\"html.parser\")\n",
        "# kill all script and style elements\n",
        "for script in soup([\"script\", \"style\"]):\n",
        "    script.extract() "
      ]
    },
    {
      "cell_type": "code",
      "execution_count": 24,
      "metadata": {
        "id": "kSIh7Lb7STFc"
      },
      "outputs": [],
      "source": [
        "text = soup.get_text()"
      ]
    },
    {
      "cell_type": "code",
      "execution_count": 25,
      "metadata": {
        "colab": {
          "base_uri": "https://localhost:8080/",
          "height": 174
        },
        "id": "Gw93W1fCSYY3",
        "outputId": "ee9f89ea-d0ec-4727-9364-a3ccd2c71c72"
      },
      "outputs": [
        {
          "output_type": "execute_result",
          "data": {
            "text/plain": [
              "'From leadsales400042@yahoo.com Mon Jun 24 17:03:55 2002 Return-Path: leadsales400042@yahoo.com Delivery-Date: Wed May 15 16:24:17 2002 Received: from MIRAFLORES.GOB.PE ([161.132.70.10]) by dogma.slashnull.org (8.11.6/8.11.6) with ESMTP id g4FFOAe12470 for ; Wed, 15 May 2002 16:24:10 +0100 Message-Id: <200205151524.g4FFOAe12470@dogma.slashnull.org> Received: from yahoo.com([208.166.82.124]) by MIRAFLORES.GOB.PE (IBM OS/400 SMTP V05R01M00) with TCP; Wed, 15 May 2002 10:23:51 +0000 From: leadsales400042@yahoo.com To: webmaster@efi.ie Subject: Got Leads? Date: 15 May 2002 20:34:36 -0700 MIME-Version: 1.0 X-Keywords: Content-Type: text/html Content-Transfer-Encoding: quoted-printable  HEY, I AM FORWARDING YOU THE AD THEY SENT ME. I TRIED THE LEADS AND THINK WE SHOULD USE THEM FOR OUR TEAM. WHAT DO YOU THINK? THANKS, JOHN     LEAD SALE EXTENDED     YOU HAVE BEEN INVITED TO JOIN THE CO-OP   LEAD SALE = EXTENDED      We have= recently put together a lead co-op specifically for your group.\\xa0 We have = been able to lock the price at as little as 50 cents per lead!!\\xa0 = Leads are normally $1-$3 per...     \\xa0= ;    So...= .  SIGN = UP TODAY....  GET O= UR LEADS....  AND G= ET TO WORK!!      Here is what we hav= e to offer you:         NETWORK MARKETER OR GIFTER CONTACTS  All Leads Guaranteed To Be Network Marketers / o= r Gifters Guaranteed To Be Current, Active and Experienced=  Leads, Have Either Responded To A Internet Quest= ionnaire, Or Are Already On Our Contact List, Of Current, Active Networkers, Open To Opportunity. Leads Include:\\xa0\\xa0\\xa0\\xa0[At Least]= Name, Phone, And Email  \\xa0        ***USE US AS A TOOL TO BUILD YOUR BUSINESS!!&nbs= p; REFER AS MANY PEOPLE AS YOU CAN.\\xa0 EARN A TRUE RESIDUAL INCOME BY THE DUPLICATION OF YOUR TEAM, CAUSE REMEMBER......    [Remember] = \\xa0 Your System Now Includes A Proven Lead System.\\xa0 \\xa0\\xa0\\xa0 [Remember]=    ____________________________________________________________________= _    Replace= ment Policy [Our Leads Are Guaranteed]   Any Unusable Lead\\xa0\\xa0 Ie. Missin= g Info, Invalid Info, Any Just Real Negative Response Towards You On = The Phone..... REPLACED      Replacement = Leads Given -\\xa0 No Questions Asked.\\xa0 Just Let Us Know What You= Need And We Will Get It Handled.   PLEASE COMPLETE TH= E FOLLOWING FORM\\xa0         NAME   PHONE    EMAIL  TIME TO CALL  PST MNT CST EST OTHER    COMPANY YOU ARE WITH     HOW MANY DOWNLINE MEMBERS DO YOU HAVE THAT MAY ALSO NEED LEADS?=     \\xa0   \\xa0 \\xa0 \\xa0 \\xa0 \\xa0 \\xa0 \\xa0 You hav= e received this Message because of a past Client/Service Relationship we had with you. = If this might be inaccurate, or you simply wish to be Removed from all future N= otices, then CLICK HERE   \\xa0     '"
            ],
            "application/vnd.google.colaboratory.intrinsic+json": {
              "type": "string"
            }
          },
          "metadata": {},
          "execution_count": 25
        }
      ],
      "source": [
        "text"
      ]
    },
    {
      "cell_type": "code",
      "execution_count": 26,
      "metadata": {
        "colab": {
          "base_uri": "https://localhost:8080/",
          "height": 174
        },
        "id": "SZuQcG7tTLLv",
        "outputId": "6f18ac4d-66b8-460e-c6e5-dd3d9c9cd33b"
      },
      "outputs": [
        {
          "output_type": "execute_result",
          "data": {
            "text/plain": [
              "'Subject: Got Leads? Date: 15 May 2002 20:34:36 -0700 MIME-Version: 1.0 X-Keywords: Content-Type: text/html Content-Transfer-Encoding: quoted-printable  HEY, I AM FORWARDING YOU THE AD THEY SENT ME. I TRIED THE LEADS AND THINK WE SHOULD USE THEM FOR OUR TEAM. WHAT DO YOU THINK? THANKS, JOHN     LEAD SALE EXTENDED     YOU HAVE BEEN INVITED TO JOIN THE CO-OP   LEAD SALE = EXTENDED      We have= recently put together a lead co-op specifically for your group.\\xa0 We have = been able to lock the price at as little as 50 cents per lead!!\\xa0 = Leads are normally $1-$3 per...     \\xa0= ;    So...= .  SIGN = UP TODAY....  GET O= UR LEADS....  AND G= ET TO WORK!!      Here is what we hav= e to offer you:         NETWORK MARKETER OR GIFTER CONTACTS  All Leads Guaranteed To Be Network Marketers / o= r Gifters Guaranteed To Be Current, Active and Experienced=  Leads, Have Either Responded To A Internet Quest= ionnaire, Or Are Already On Our Contact List, Of Current, Active Networkers, Open To Opportunity. Leads Include:\\xa0\\xa0\\xa0\\xa0[At Least]= Name, Phone, And Email  \\xa0        ***USE US AS A TOOL TO BUILD YOUR BUSINESS!!&nbs= p; REFER AS MANY PEOPLE AS YOU CAN.\\xa0 EARN A TRUE RESIDUAL INCOME BY THE DUPLICATION OF YOUR TEAM, CAUSE REMEMBER......    [Remember] = \\xa0 Your System Now Includes A Proven Lead System.\\xa0 \\xa0\\xa0\\xa0 [Remember]=    ____________________________________________________________________= _    Replace= ment Policy [Our Leads Are Guaranteed]   Any Unusable Lead\\xa0\\xa0 Ie. Missin= g Info, Invalid Info, Any Just Real Negative Response Towards You On = The Phone..... REPLACED      Replacement = Leads Given -\\xa0 No Questions Asked.\\xa0 Just Let Us Know What You= Need And We Will Get It Handled.   PLEASE COMPLETE TH= E FOLLOWING FORM\\xa0         NAME   PHONE    EMAIL  TIME TO CALL  PST MNT CST EST OTHER    COMPANY YOU ARE WITH     HOW MANY DOWNLINE MEMBERS DO YOU HAVE THAT MAY ALSO NEED LEADS?=     \\xa0   \\xa0 \\xa0 \\xa0 \\xa0 \\xa0 \\xa0 \\xa0 You hav= e received this Message because of a past Client/Service Relationship we had with you. = If this might be inaccurate, or you simply wish to be Removed from all future N= otices, then CLICK HERE   \\xa0     '"
            ],
            "application/vnd.google.colaboratory.intrinsic+json": {
              "type": "string"
            }
          },
          "metadata": {},
          "execution_count": 26
        }
      ],
      "source": [
        "strngg_2=re.sub(r'^.*?Subject', 'Subject', text)\n",
        "strngg_2"
      ]
    },
    {
      "cell_type": "code",
      "execution_count": 27,
      "metadata": {
        "colab": {
          "base_uri": "https://localhost:8080/",
          "height": 174
        },
        "id": "an_lrsHhKl6p",
        "outputId": "03af428f-785a-4fa5-82e1-e9c444562cac"
      },
      "outputs": [
        {
          "output_type": "execute_result",
          "data": {
            "text/plain": [
              "'Subject Got Leads Date 15 May 2002 203436 0700 MIMEVersion 1.0 XKeywords ContentType texthtml ContentTransferEncoding quotedprintable  HEY I AM FORWARDING YOU THE AD THEY SENT ME. I TRIED THE LEADS AND THINK WE SHOULD USE THEM FOR OUR TEAM. WHAT DO YOU THINK THANKS JOHN     LEAD SALE EXTENDED     YOU HAVE BEEN INVITED TO JOIN THE COOP   LEAD SALE  EXTENDED      We have recently put together a lead coop specifically for your group. We have  been able to lock the price at as little as 50 cents per lead  Leads are normally 13 per...          So... .  SIGN  UP TODAY....  GET O UR LEADS....  AND G ET TO WORK      Here is what we hav e to offer you         NETWORK MARKETER OR GIFTER CONTACTS  All Leads Guaranteed To Be Network Marketers  o r Gifters Guaranteed To Be Current Active and Experienced  Leads Have Either Responded To A Internet Quest ionnaire Or Are Already On Our Contact List Of Current Active Networkers Open To Opportunity. Leads IncludeAt Least Name Phone And Email          USE US AS A TOOL TO BUILD YOUR BUSINESSnbs p REFER AS MANY PEOPLE AS YOU CAN. EARN A TRUE RESIDUAL INCOME BY THE DUPLICATION OF YOUR TEAM CAUSE REMEMBER......    Remember   Your System Now Includes A Proven Lead System.  Remember         Replace ment Policy Our Leads Are Guaranteed   Any Unusable Lead Ie. Missin g Info Invalid Info Any Just Real Negative Response Towards You On  The Phone..... REPLACED      Replacement  Leads Given  No Questions Asked. Just Let Us Know What You Need And We Will Get It Handled.   PLEASE COMPLETE TH E FOLLOWING FORM         NAME   PHONE    EMAIL  TIME TO CALL  PST MNT CST EST OTHER    COMPANY YOU ARE WITH     HOW MANY DOWNLINE MEMBERS DO YOU HAVE THAT MAY ALSO NEED LEADS               You hav e received this Message because of a past ClientService Relationship we had with you.  If this might be inaccurate or you simply wish to be Removed from all future N otices then CLICK HERE        '"
            ],
            "application/vnd.google.colaboratory.intrinsic+json": {
              "type": "string"
            }
          },
          "metadata": {},
          "execution_count": 27
        }
      ],
      "source": [
        "my_new_string = re.sub('[^a-zA-Z0-9 \\n\\.]', '', strngg_2)\n",
        "my_new_string"
      ]
    },
    {
      "cell_type": "code",
      "execution_count": 28,
      "metadata": {
        "colab": {
          "base_uri": "https://localhost:8080/",
          "height": 174
        },
        "id": "unoSEC98dpkQ",
        "outputId": "c29e6c14-9a7e-48f5-8be6-7b5abb061a47"
      },
      "outputs": [
        {
          "output_type": "execute_result",
          "data": {
            "text/plain": [
              "'Subject Got Leads Date 15 May 2002 203436 0700 MIMEVersion 1.0 XKeywords ContentType texthtml ContentTransferEncoding quotedprintable HEY I AM FORWARDING YOU THE AD THEY SENT ME. I TRIED THE LEADS AND THINK WE SHOULD USE THEM FOR OUR TEAM. WHAT DO YOU THINK THANKS JOHN LEAD SALE EXTENDED YOU HAVE BEEN INVITED TO JOIN THE COOP LEAD SALE EXTENDED We have recently put together a lead coop specifically for your group. We have been able to lock the price at as little as 50 cents per lead Leads are normally 13 per... So... . SIGN UP TODAY.... GET O UR LEADS.... AND G ET TO WORK Here is what we hav e to offer you NETWORK MARKETER OR GIFTER CONTACTS All Leads Guaranteed To Be Network Marketers o r Gifters Guaranteed To Be Current Active and Experienced Leads Have Either Responded To A Internet Quest ionnaire Or Are Already On Our Contact List Of Current Active Networkers Open To Opportunity. Leads IncludeAt Least Name Phone And Email USE US AS A TOOL TO BUILD YOUR BUSINESSnbs p REFER AS MANY PEOPLE AS YOU CAN. EARN A TRUE RESIDUAL INCOME BY THE DUPLICATION OF YOUR TEAM CAUSE REMEMBER...... Remember Your System Now Includes A Proven Lead System. Remember Replace ment Policy Our Leads Are Guaranteed Any Unusable Lead Ie. Missin g Info Invalid Info Any Just Real Negative Response Towards You On The Phone..... REPLACED Replacement Leads Given No Questions Asked. Just Let Us Know What You Need And We Will Get It Handled. PLEASE COMPLETE TH E FOLLOWING FORM NAME PHONE EMAIL TIME TO CALL PST MNT CST EST OTHER COMPANY YOU ARE WITH HOW MANY DOWNLINE MEMBERS DO YOU HAVE THAT MAY ALSO NEED LEADS You hav e received this Message because of a past ClientService Relationship we had with you. If this might be inaccurate or you simply wish to be Removed from all future N otices then CLICK HERE'"
            ],
            "application/vnd.google.colaboratory.intrinsic+json": {
              "type": "string"
            }
          },
          "metadata": {},
          "execution_count": 28
        }
      ],
      "source": [
        "\" \".join(my_new_string.split())"
      ]
    },
    {
      "cell_type": "code",
      "execution_count": 29,
      "metadata": {
        "colab": {
          "base_uri": "https://localhost:8080/",
          "height": 174
        },
        "id": "bAdGXb59gEz1",
        "outputId": "f99a8eb4-7b12-4ea7-efbc-b1247ef65ed8"
      },
      "outputs": [
        {
          "output_type": "execute_result",
          "data": {
            "text/plain": [
              "'  HEY, I AM FORWARDING YOU THE AD THEY SENT ME. I TRIED THE LEADS AND THINK WE SHOULD USE THEM FOR OUR TEAM. WHAT DO YOU THINK? THANKS, JOHN     LEAD SALE EXTENDED     YOU HAVE BEEN INVITED TO JOIN THE CO-OP   LEAD SALE = EXTENDED      We have= recently put together a lead co-op specifically for your group.\\xa0 We have = been able to lock the price at as little as 50 cents per lead!!\\xa0 = Leads are normally $1-$3 per...     \\xa0= ;    So...= .  SIGN = UP TODAY....  GET O= UR LEADS....  AND G= ET TO WORK!!      Here is what we hav= e to offer you:         NETWORK MARKETER OR GIFTER CONTACTS  All Leads Guaranteed To Be Network Marketers / o= r Gifters Guaranteed To Be Current, Active and Experienced=  Leads, Have Either Responded To A Internet Quest= ionnaire, Or Are Already On Our Contact List, Of Current, Active Networkers, Open To Opportunity. Leads Include:\\xa0\\xa0\\xa0\\xa0[At Least]= Name, Phone, And Email  \\xa0        ***USE US AS A TOOL TO BUILD YOUR BUSINESS!!&nbs= p; REFER AS MANY PEOPLE AS YOU CAN.\\xa0 EARN A TRUE RESIDUAL INCOME BY THE DUPLICATION OF YOUR TEAM, CAUSE REMEMBER......    [Remember] = \\xa0 Your System Now Includes A Proven Lead System.\\xa0 \\xa0\\xa0\\xa0 [Remember]=    ____________________________________________________________________= _    Replace= ment Policy [Our Leads Are Guaranteed]   Any Unusable Lead\\xa0\\xa0 Ie. Missin= g Info, Invalid Info, Any Just Real Negative Response Towards You On = The Phone..... REPLACED      Replacement = Leads Given -\\xa0 No Questions Asked.\\xa0 Just Let Us Know What You= Need And We Will Get It Handled.   PLEASE COMPLETE TH= E FOLLOWING FORM\\xa0         NAME   PHONE    EMAIL  TIME TO CALL  PST MNT CST EST OTHER    COMPANY YOU ARE WITH     HOW MANY DOWNLINE MEMBERS DO YOU HAVE THAT MAY ALSO NEED LEADS?=     \\xa0   \\xa0 \\xa0 \\xa0 \\xa0 \\xa0 \\xa0 \\xa0 You hav= e received this Message because of a past Client/Service Relationship we had with you. = If this might be inaccurate, or you simply wish to be Removed from all future N= otices, then CLICK HERE   \\xa0     '"
            ],
            "application/vnd.google.colaboratory.intrinsic+json": {
              "type": "string"
            }
          },
          "metadata": {},
          "execution_count": 29
        }
      ],
      "source": [
        "# re.sub('<[^>]+>', '', s)\n",
        "result = strngg_2.rsplit('printable', 1)[1]\n",
        "result"
      ]
    },
    {
      "cell_type": "code",
      "execution_count": 30,
      "metadata": {
        "colab": {
          "base_uri": "https://localhost:8080/",
          "height": 174
        },
        "id": "A1mSAOtfmxcb",
        "outputId": "49e27182-bc53-4532-d1d1-3ad78605b971"
      },
      "outputs": [
        {
          "output_type": "execute_result",
          "data": {
            "text/plain": [
              "' hey i am forwarding you the ad they sent me i tried the leads and think we should use them for our team what do you think thanks john lead sale extended you have been invited to join the coop lead sale extended we have recently put together a lead coop specifically for your group we have been able to lock the price at as little as 50 cents per lead leads are normally 13 per so sign up today get o ur leads and g et to work here is what we hav e to offer you network marketer or gifter contacts all leads guaranteed to be network marketers o r gifters guaranteed to be current active and experienced leads have either responded to a internet quest ionnaire or are already on our contact list of current active networkers open to opportunity leads includeat least name phone and email use us as a tool to build your businessnbs p refer as many people as you can earn a true residual income by the duplication of your team cause remember remember your system now includes a proven lead system remember replace ment policy our leads are guaranteed any unusable lead ie missin g info invalid info any just real negative response towards you on the phone replaced replacement leads given no questions asked just let us know what you need and we will get it handled please complete th e following form name phone email time to call pst mnt cst est other company you are with how many downline members do you have that may also need leads you hav e received this message because of a past clientservice relationship we had with you if this might be inaccurate or you simply wish to be removed from all future n otices then click here'"
            ],
            "application/vnd.google.colaboratory.intrinsic+json": {
              "type": "string"
            }
          },
          "metadata": {},
          "execution_count": 30
        }
      ],
      "source": [
        "strngg_2=re.sub(r'^.*?Subject', 'Subject', text)\n",
        "my_new_string = re.sub('[^a-zA-Z0-9 \\n\\.]', '', strngg_2)\n",
        "my_new_string_2=''.join(my_new_string.split('.'))\n",
        "my_new_string_2=\" \".join(my_new_string_2.split())\n",
        "result = my_new_string_2.rsplit('printable', 1)[1]\n",
        "result=result.lower()\n",
        "result"
      ]
    },
    {
      "cell_type": "code",
      "execution_count": 31,
      "metadata": {
        "id": "wzZrrhyjvPpM"
      },
      "outputs": [],
      "source": [
        "from bs4 import BeautifulSoup\n",
        "def format(string):\n",
        "  soup = BeautifulSoup(string, features=\"html.parser\")\n",
        "# kill all script and style elements\n",
        "  for script in soup([\"script\", \"style\"]):\n",
        "    script.extract()\n",
        "  text=soup.get_text() \n",
        "  my_new_string_1=re.sub(r'^.*?Subject', 'Subject', text)\n",
        "  my_new_string_2=re.sub(r'[A-Za-z0-9]*@[A-Za-z]*\\.?[A-Za-z0-9]*', \"\", my_new_string_1)\n",
        "  my_new_string_3 = re.sub('[^a-zA-Z0-9 \\n\\.]', '', my_new_string_2)\n",
        "  my_new_string_4=''.join(my_new_string_3.split('.'))\n",
        "  my_new_string_5=\" \".join(my_new_string_4.split())\n",
        "  my_new_string_6=re.sub(r'[A-Za-z0-9]*@[A-Za-z]*\\.?[A-Za-z0-9]*', \"\", my_new_string_5)\n",
        "  my_new_string_7 = re.sub('http[^\\s]+','',my_new_string_6)\n",
        "  # my_new_string_5 = my_new_string_4.rsplit('printable', 1)[1]\n",
        "  output_string=my_new_string_7.lower()\n",
        "  return output_string"
      ]
    },
    {
      "cell_type": "code",
      "execution_count": 32,
      "metadata": {
        "colab": {
          "base_uri": "https://localhost:8080/",
          "height": 174
        },
        "id": "ruLKxiXm0n6Y",
        "outputId": "aac979f5-5760-4c5e-b0b0-09e2dfb626fe"
      },
      "outputs": [
        {
          "output_type": "execute_result",
          "data": {
            "text/plain": [
              "'subject got leads date 15 may 2002 203436 0700 mimeversion 10 xkeywords contenttype texthtml contenttransferencoding quotedprintable hey i am forwarding you the ad they sent me i tried the leads and think we should use them for our team what do you think thanks john lead sale extended you have been invited to join the coop lead sale extended we have recently put together a lead coop specifically for your group we have been able to lock the price at as little as 50 cents per lead leads are normally 13 per so sign up today get o ur leads and g et to work here is what we hav e to offer you network marketer or gifter contacts all leads guaranteed to be network marketers o r gifters guaranteed to be current active and experienced leads have either responded to a internet quest ionnaire or are already on our contact list of current active networkers open to opportunity leads includeat least name phone and email use us as a tool to build your businessnbs p refer as many people as you can earn a true residual income by the duplication of your team cause remember remember your system now includes a proven lead system remember replace ment policy our leads are guaranteed any unusable lead ie missin g info invalid info any just real negative response towards you on the phone replaced replacement leads given no questions asked just let us know what you need and we will get it handled please complete th e following form name phone email time to call pst mnt cst est other company you are with how many downline members do you have that may also need leads you hav e received this message because of a past clientservice relationship we had with you if this might be inaccurate or you simply wish to be removed from all future n otices then click here'"
            ],
            "application/vnd.google.colaboratory.intrinsic+json": {
              "type": "string"
            }
          },
          "metadata": {},
          "execution_count": 32
        }
      ],
      "source": [
        "r = format(dummy)\n",
        "r"
      ]
    },
    {
      "cell_type": "code",
      "execution_count": 33,
      "metadata": {
        "id": "62IrDK6f212k"
      },
      "outputs": [],
      "source": [
        "df2 = dframe1['text'].apply(format)\n",
        "# dummy=dframe['text'][52]\n",
        "# dummy"
      ]
    },
    {
      "cell_type": "code",
      "execution_count": 34,
      "metadata": {
        "colab": {
          "base_uri": "https://localhost:8080/",
          "height": 174
        },
        "id": "bipiEjQi8-pv",
        "outputId": "860a4721-b6cd-4426-ebdf-3d758b6163fb"
      },
      "outputs": [
        {
          "output_type": "execute_result",
          "data": {
            "text/plain": [
              "'subject world wide words 20 jul 02 to org world wide words issue 296 saturday 20 july 2002 sent each saturday to 15000 subscribers in at least 119 countries editor michael quinion thornbury bristol uk issn 14701448 if you respond to this mailing remember to change the outgoing address to one of those in the contact addresses section contents 1 turns of phrase beanpole family 2 weird words jobbernowl 3 beyond words 4 qa chip off the old block bells and whistles mortarboard 5 endnote 6 subscription commands 7 contact addresses 1 turns of phrase beanpole family historically families have usually had more children than parents resulting in family trees that looked like pyramids however in recent years especially in countries like britain and the us the number of children per generation has steadily gone down while life span has increased this has led to a shape of family tree that some researchers have likened to a beanpole tall and thin with few people in each generation the term beanpole family has been around in the academic literature at least since 1987 but it rarely appears elsewhere a recent british report has brought it to wider public notice at least in the uk some researchers find it too slangy and prefer the jargon term verticalised to describe such families whatever term you prefer specialists are sure that the demographic shift is having a big effect on personal relationships within the family and for example the role of grandparents the rising divorce rate partly explains the growth of the beanpole family with almost one in two marriages ending in divorce many adults have at least two families each with a single child observer may 2002 noting the rising number of socalled beanpole families in britain families with only one child the report warns that a child without siblings is starved of the companionship of family members of their own age leading to greater social isolation with teenagers adopting a more selfish attitude to life guardian june 2002 2 weird words jobbernowl a stupid person a blockhead unfortunately this useful and effective insult has rather dropped out of use in these mealymouthed times the last excursion for it that i can find is in the classic w c fields film the bank dick of 1940 in which the word occurs in a variant form in the line surely dont be a luddieduddie dont be a mooncalf dont be a jabbernow youre not those are you before that it turns up in one of the novels of hall caine in 1890 but even by then it seems to have been rather rare its from the old french jobard from jobe silly that word was then added to noll the top or crown of the head the noddle the first sense was of a blocklike or stupidlooking head but was soon extended to refer to the quality of the mind within jobbernowlism is the condition or state of being a jobbernowl or an act or remark that is especially stupid careful how you use it the recipient might be a subscriber 3 beyond words ive been away at a heritage conference in colchester these past few days on my way back my eye was caught by this warning sign posted above some steps at the local railway station caution do not run on the stairs use the hand rail 4 qa q for my job i have to read american magazines concerning consumer electronics home systems burglar alarms etc i very often come across the expression bells and whistles which seem to relate to equipment accessories or features that are offered to the customer as plusses but are not really indispensable for the device to work is that right and where does that funny phrase come from herve castelain france q youre right about the meaning of this phrase which refers to gimmicks nonessential but often engaging features added to a piece of technical equipment or a computer program to make it seem more superficially attractive without enhancing its main function the phrase is actually quite modern and may be a product of the american military at least one of its earliest appearances was in an article in atlantic in october 1982 which said it was pentagon slang for extravagant frills theres some evidence that the term has actually been around since the 1960s but the early evidence is sparse where it comes from is still a matter of learned debate a literal sense of the phrase appeared around the middle of the nineteenth century referring to streetcars railways and steamships before modern electronics there were really only two ways to make a loud warning noise you either rang a bell or tooted a whistle steam made the latter a real power in the land anybody who has heard the noisy outoftune calliope on the steamboat natchez at new orleans will agree about its power though less so about its glory and at one time clang clang clang went the trolley in large numbers of american cities at least some early us railroad locomotives had both bells and whistles as this extract from an article in appletons journal of 1876 shows you look up at an angle of sixty degrees and see sweeping along the edge of a precipice twothirds up the rocky height a train of redandyellow railwaycars drawn by two woodburning engines the sound of whose bells and whistles seems like the small diversions of very little children so diminished are they by the distance could it be that to have both bells and whistles was thought excessive a case of belt and braces an unnecessary feature a frill possibly but its more probable the slang sense of the term comes from that close musical relative of the calliope the theatre organ extraordinary instruments such as the mighty wurlitzer augmented their basic repertoire by all sorts of sound effects to help the organist accompany silent films among them car horns sirens and bird whistles these effects were called toys and organs often had toy counters with 20 or more noisemakers on them including various bells and whistles in the 1950s decades after the talkies came in but while theatre organs were still common in big movie houses these fun features must have been considered no longer essential to the function of the organ but mere fripperies inessential addons its possible the slang sense grew out of that it got taken up especially by the computing industry perhaps because opportunities to add them are so great q the designation of robes for academic dress clearly comes from its origin with the clergy in the middle ages but what about mortarboards the best i could find was its origin in the 12th or 13th century clergy cap but that was not squareshaped does mortarboard refer to the guilds or is its origin more ancient a the academic cap often called a mortarboard is quite ancient but that word for it only dates from the middle of the nineteenth century a less slangy way to identify it is to call it a square the literal mortar board is the wooden plate usually with a handle underneath on which bricklayers carry small amounts of mortar a similar tool is used by plasterers but they usually call it a hawk what seems to have happened is that the similarity in shape between the brickies board and the academic cap led some wag probably at oxford university to apply the name of the one to the other our first recorded use is in a book of 18536 the adventures of mr verdant green an oxford freshman by a clergyman named edward bradley who wrote under the pen name of cuthbert bede the names of the two patron saints of durham where he went to school verdant green is a sort of undergraduate pickwick and the book recounts his adventures this magisterial reprimand by a don appears after one such escapade i will overlook your offence in assuming that portion of the academical attire to which you gave the offensive epithet of mortarboard more especially as you acted at the suggestion and bidding of those who ought to have known better after a slow start the book became a huge success selling more than 200000 copies in the next 20 years whether mr bradley invented the slang term we may never know but his book certainly popularised it q i got into a discussion about chip off the old block with friends and we are wondering if it had to do with sculpting jewelry making woodworking or none of the above what does this term mean and where did it come from vijay renganathan a the associations are with carpentry and the block is definitely made of wood the first form of the expression was chip of the same block meaning that a person or thing was made of the same stuff as somebody or something else so from the same source or parentage an early example is in a sermon by dr robert sanderson at one time bishop of lincoln dated 1637 am not i a child of the same adam a chip of the same block with him later that century another form is recorded a chip of the old block which meant that somebody was the spitting image of his father or continued some family characteristic at some point probably late in the nineteenth century this was modified to a chip off the old block which does nothing to change the sense but is the way its now usually written or said 5 endnote the sum of human wisdom is not contained in any one language and no single language is capable of expressing all forms and degrees of human comprehension ezra pound quoted by david crystal in the guardian 25 october 1999 6 subscription commands to leave the list change your subscription address or subscribe please visit or you can send a message to from the address at which you are or want to be subscribed to leave send signoff worldwidewords to join send subscribe worldwidewords firstname lastname 7 contact addresses do not use the address that comes up when you hit reply on this mailing or your message will be sent to an electronic deadletter office either create a new message or change the outgoing to address to one of these for general comments for qa section questions world wide words is copyright c michael quinion 2002 all rights reserved the words web site is at you may reproduce this newsletter in whole or in part in other free media online provided that you include this note and the copyright notice above reproduction in print media or on web pages requires prior permission contact'"
            ],
            "application/vnd.google.colaboratory.intrinsic+json": {
              "type": "string"
            }
          },
          "metadata": {},
          "execution_count": 34
        }
      ],
      "source": [
        "df2[901]"
      ]
    },
    {
      "cell_type": "markdown",
      "metadata": {
        "id": "4IrhDHJ7zkso"
      },
      "source": [
        "Removing Stopwords"
      ]
    },
    {
      "cell_type": "code",
      "execution_count": 35,
      "metadata": {
        "colab": {
          "base_uri": "https://localhost:8080/"
        },
        "id": "I8D7OnzPznXV",
        "outputId": "7b7f0efb-e5a1-46a6-ca0e-c8277f02589c"
      },
      "outputs": [
        {
          "output_type": "stream",
          "name": "stderr",
          "text": [
            "[nltk_data] Downloading package stopwords to /root/nltk_data...\n",
            "[nltk_data]   Unzipping corpora/stopwords.zip.\n"
          ]
        },
        {
          "output_type": "execute_result",
          "data": {
            "text/plain": [
              "True"
            ]
          },
          "metadata": {},
          "execution_count": 35
        }
      ],
      "source": [
        "nltk.download('stopwords')"
      ]
    },
    {
      "cell_type": "code",
      "execution_count": 36,
      "metadata": {
        "id": "1NM8avqIzx7E"
      },
      "outputs": [],
      "source": [
        "from nltk.corpus import stopwords\n",
        "from nltk.tokenize import word_tokenize\n",
        "stop_words = set(stopwords.words('english'))\n",
        "\", \".join(stopwords.words('english'))\n",
        "def remove_stopwords(text):\n",
        "    return \" \".join([word for word in text.split() if word not in stop_words])"
      ]
    },
    {
      "cell_type": "code",
      "execution_count": 37,
      "metadata": {
        "colab": {
          "base_uri": "https://localhost:8080/"
        },
        "id": "VEYi0qLa3vP4",
        "outputId": "e05a0712-b367-4220-b53f-98f6b5f1a375"
      },
      "outputs": [
        {
          "output_type": "execute_result",
          "data": {
            "text/plain": [
              "0       subject re ilug architecture crossover trouble...\n",
              "1       subject cash in on your home equity date tue 0...\n",
              "2       subject are your mortgage rates the best they ...\n",
              "3       subject online approval for 5000 now mimeversi...\n",
              "4       subject re ilug expanding a string multiple ti...\n",
              "                              ...                        \n",
              "5823    subject re ilug nmap results date mon 22 jul 2...\n",
              "5824    subject re the absurdities of life inreplyto 3...\n",
              "5825    subject real drugsviagra and phentrimine date ...\n",
              "5826    subject razorusers no positive razor hits send...\n",
              "5827    subject are you being freeserved date mon 30 s...\n",
              "Name: text, Length: 5320, dtype: object"
            ]
          },
          "metadata": {},
          "execution_count": 37
        }
      ],
      "source": [
        "df2"
      ]
    },
    {
      "cell_type": "code",
      "execution_count": 38,
      "metadata": {
        "id": "dN7O9MPp0OU8"
      },
      "outputs": [],
      "source": [
        "df2 = df2.apply(lambda x: remove_stopwords(x))"
      ]
    },
    {
      "cell_type": "code",
      "execution_count": 39,
      "metadata": {
        "colab": {
          "base_uri": "https://localhost:8080/",
          "height": 174
        },
        "id": "IvA4HBpT34r2",
        "outputId": "1ed98aa6-96d1-4d08-cbfe-e95d2dcda375"
      },
      "outputs": [
        {
          "output_type": "execute_result",
          "data": {
            "text/plain": [
              "'subject world wide words 20 jul 02 org world wide words issue 296 saturday 20 july 2002 sent saturday 15000 subscribers least 119 countries editor michael quinion thornbury bristol uk issn 14701448 respond mailing remember change outgoing address one contact addresses section contents 1 turns phrase beanpole family 2 weird words jobbernowl 3 beyond words 4 qa chip old block bells whistles mortarboard 5 endnote 6 subscription commands 7 contact addresses 1 turns phrase beanpole family historically families usually children parents resulting family trees looked like pyramids however recent years especially countries like britain us number children per generation steadily gone life span increased led shape family tree researchers likened beanpole tall thin people generation term beanpole family around academic literature least since 1987 rarely appears elsewhere recent british report brought wider public notice least uk researchers find slangy prefer jargon term verticalised describe families whatever term prefer specialists sure demographic shift big effect personal relationships within family example role grandparents rising divorce rate partly explains growth beanpole family almost one two marriages ending divorce many adults least two families single child observer may 2002 noting rising number socalled beanpole families britain families one child report warns child without siblings starved companionship family members age leading greater social isolation teenagers adopting selfish attitude life guardian june 2002 2 weird words jobbernowl stupid person blockhead unfortunately useful effective insult rather dropped use mealymouthed times last excursion find classic w c fields film bank dick 1940 word occurs variant form line surely dont luddieduddie dont mooncalf dont jabbernow youre turns one novels hall caine 1890 even seems rather rare old french jobard jobe silly word added noll top crown head noddle first sense blocklike stupidlooking head soon extended refer quality mind within jobbernowlism condition state jobbernowl act remark especially stupid careful use recipient might subscriber 3 beyond words ive away heritage conference colchester past days way back eye caught warning sign posted steps local railway station caution run stairs use hand rail 4 qa q job read american magazines concerning consumer electronics home systems burglar alarms etc often come across expression bells whistles seem relate equipment accessories features offered customer plusses really indispensable device work right funny phrase come herve castelain france q youre right meaning phrase refers gimmicks nonessential often engaging features added piece technical equipment computer program make seem superficially attractive without enhancing main function phrase actually quite modern may product american military least one earliest appearances article atlantic october 1982 said pentagon slang extravagant frills theres evidence term actually around since 1960s early evidence sparse comes still matter learned debate literal sense phrase appeared around middle nineteenth century referring streetcars railways steamships modern electronics really two ways make loud warning noise either rang bell tooted whistle steam made latter real power land anybody heard noisy outoftune calliope steamboat natchez new orleans agree power though less glory one time clang clang clang went trolley large numbers american cities least early us railroad locomotives bells whistles extract article appletons journal 1876 shows look angle sixty degrees see sweeping along edge precipice twothirds rocky height train redandyellow railwaycars drawn two woodburning engines sound whose bells whistles seems like small diversions little children diminished distance could bells whistles thought excessive case belt braces unnecessary feature frill possibly probable slang sense term comes close musical relative calliope theatre organ extraordinary instruments mighty wurlitzer augmented basic repertoire sorts sound effects help organist accompany silent films among car horns sirens bird whistles effects called toys organs often toy counters 20 noisemakers including various bells whistles 1950s decades talkies came theatre organs still common big movie houses fun features must considered longer essential function organ mere fripperies inessential addons possible slang sense grew got taken especially computing industry perhaps opportunities add great q designation robes academic dress clearly comes origin clergy middle ages mortarboards best could find origin 12th 13th century clergy cap squareshaped mortarboard refer guilds origin ancient academic cap often called mortarboard quite ancient word dates middle nineteenth century less slangy way identify call square literal mortar board wooden plate usually handle underneath bricklayers carry small amounts mortar similar tool used plasterers usually call hawk seems happened similarity shape brickies board academic cap led wag probably oxford university apply name one first recorded use book 18536 adventures mr verdant green oxford freshman clergyman named edward bradley wrote pen name cuthbert bede names two patron saints durham went school verdant green sort undergraduate pickwick book recounts adventures magisterial reprimand appears one escapade overlook offence assuming portion academical attire gave offensive epithet mortarboard especially acted suggestion bidding ought known better slow start book became huge success selling 200000 copies next 20 years whether mr bradley invented slang term may never know book certainly popularised q got discussion chip old block friends wondering sculpting jewelry making woodworking none term mean come vijay renganathan associations carpentry block definitely made wood first form expression chip block meaning person thing made stuff somebody something else source parentage early example sermon dr robert sanderson one time bishop lincoln dated 1637 child adam chip block later century another form recorded chip old block meant somebody spitting image father continued family characteristic point probably late nineteenth century modified chip old block nothing change sense way usually written said 5 endnote sum human wisdom contained one language single language capable expressing forms degrees human comprehension ezra pound quoted david crystal guardian 25 october 1999 6 subscription commands leave list change subscription address subscribe please visit send message address want subscribed leave send signoff worldwidewords join send subscribe worldwidewords firstname lastname 7 contact addresses use address comes hit reply mailing message sent electronic deadletter office either create new message change outgoing address one general comments qa section questions world wide words copyright c michael quinion 2002 rights reserved words web site may reproduce newsletter whole part free media online provided include note copyright notice reproduction print media web pages requires prior permission contact'"
            ],
            "application/vnd.google.colaboratory.intrinsic+json": {
              "type": "string"
            }
          },
          "metadata": {},
          "execution_count": 39
        }
      ],
      "source": [
        "df2[901]"
      ]
    },
    {
      "cell_type": "code",
      "source": [
        "data = pd.concat([df2, dframe1['sp_ha']], axis=1)\n",
        "data.info()"
      ],
      "metadata": {
        "colab": {
          "base_uri": "https://localhost:8080/"
        },
        "id": "TV-P2TK3RpAW",
        "outputId": "cf9f0e5a-5b1d-4f2f-a11c-876856ce75b0"
      },
      "execution_count": 40,
      "outputs": [
        {
          "output_type": "stream",
          "name": "stdout",
          "text": [
            "<class 'pandas.core.frame.DataFrame'>\n",
            "Int64Index: 5320 entries, 0 to 5827\n",
            "Data columns (total 2 columns):\n",
            " #   Column  Non-Null Count  Dtype \n",
            "---  ------  --------------  ----- \n",
            " 0   text    5320 non-null   object\n",
            " 1   sp_ha   5320 non-null   object\n",
            "dtypes: object(2)\n",
            "memory usage: 253.7+ KB\n"
          ]
        }
      ]
    },
    {
      "cell_type": "code",
      "source": [
        "\n",
        "data['sp_ha'] = data['sp_ha'].astype(str).astype(int)"
      ],
      "metadata": {
        "id": "jrc4RiEQfuDq"
      },
      "execution_count": 41,
      "outputs": []
    },
    {
      "cell_type": "code",
      "source": [
        "data.info()"
      ],
      "metadata": {
        "colab": {
          "base_uri": "https://localhost:8080/"
        },
        "id": "ye4HZf0of4Ou",
        "outputId": "1aabb02f-33c6-460a-9287-c79924f5c656"
      },
      "execution_count": 42,
      "outputs": [
        {
          "output_type": "stream",
          "name": "stdout",
          "text": [
            "<class 'pandas.core.frame.DataFrame'>\n",
            "Int64Index: 5320 entries, 0 to 5827\n",
            "Data columns (total 2 columns):\n",
            " #   Column  Non-Null Count  Dtype \n",
            "---  ------  --------------  ----- \n",
            " 0   text    5320 non-null   object\n",
            " 1   sp_ha   5320 non-null   int64 \n",
            "dtypes: int64(1), object(1)\n",
            "memory usage: 253.7+ KB\n"
          ]
        }
      ]
    },
    {
      "cell_type": "markdown",
      "source": [
        "Train test split"
      ],
      "metadata": {
        "id": "RODFFAYXRdz7"
      }
    },
    {
      "cell_type": "code",
      "source": [
        "from sklearn.model_selection import train_test_split\n",
        "X_train, X_test, y_train, y_test = train_test_split(data['text'], data['sp_ha'], train_size=0.7, shuffle=True, random_state=1)"
      ],
      "metadata": {
        "id": "uTftXupNRdJu"
      },
      "execution_count": 43,
      "outputs": []
    },
    {
      "cell_type": "markdown",
      "source": [
        "shape"
      ],
      "metadata": {
        "id": "PYwrVcnkSKop"
      }
    },
    {
      "cell_type": "code",
      "source": [
        "X_train.shape"
      ],
      "metadata": {
        "colab": {
          "base_uri": "https://localhost:8080/"
        },
        "id": "l3GHnvarSL_y",
        "outputId": "41cba290-a2ff-405b-d5b9-804bbe0ee4f9"
      },
      "execution_count": 44,
      "outputs": [
        {
          "output_type": "execute_result",
          "data": {
            "text/plain": [
              "(3723,)"
            ]
          },
          "metadata": {},
          "execution_count": 44
        }
      ]
    },
    {
      "cell_type": "code",
      "source": [
        "y_train.shape"
      ],
      "metadata": {
        "colab": {
          "base_uri": "https://localhost:8080/"
        },
        "id": "7PKJRGgPSOu7",
        "outputId": "b3502654-6183-47b9-9e8a-430f8a40bf8e"
      },
      "execution_count": 45,
      "outputs": [
        {
          "output_type": "execute_result",
          "data": {
            "text/plain": [
              "(3723,)"
            ]
          },
          "metadata": {},
          "execution_count": 45
        }
      ]
    },
    {
      "cell_type": "code",
      "source": [
        "X_test.shape"
      ],
      "metadata": {
        "colab": {
          "base_uri": "https://localhost:8080/"
        },
        "id": "MLHbna75STN7",
        "outputId": "ce10b1a0-6817-4394-f0da-04b696e7a911"
      },
      "execution_count": 46,
      "outputs": [
        {
          "output_type": "execute_result",
          "data": {
            "text/plain": [
              "(1597,)"
            ]
          },
          "metadata": {},
          "execution_count": 46
        }
      ]
    },
    {
      "cell_type": "code",
      "source": [
        "y_test.shape"
      ],
      "metadata": {
        "colab": {
          "base_uri": "https://localhost:8080/"
        },
        "id": "y4GRcojhSWeF",
        "outputId": "181f82a7-ab29-44c9-f8e8-b6dd417e0da0"
      },
      "execution_count": 47,
      "outputs": [
        {
          "output_type": "execute_result",
          "data": {
            "text/plain": [
              "(1597,)"
            ]
          },
          "metadata": {},
          "execution_count": 47
        }
      ]
    },
    {
      "cell_type": "code",
      "source": [
        "y_train.value_counts()"
      ],
      "metadata": {
        "colab": {
          "base_uri": "https://localhost:8080/"
        },
        "id": "MFtCF1UnSfuA",
        "outputId": "ff0ed0ac-68bf-44db-cade-76bf30d2e5e1"
      },
      "execution_count": 48,
      "outputs": [
        {
          "output_type": "execute_result",
          "data": {
            "text/plain": [
              "0    2537\n",
              "1    1186\n",
              "Name: sp_ha, dtype: int64"
            ]
          },
          "metadata": {},
          "execution_count": 48
        }
      ]
    },
    {
      "cell_type": "code",
      "source": [
        "y_test.value_counts()"
      ],
      "metadata": {
        "colab": {
          "base_uri": "https://localhost:8080/"
        },
        "id": "jfjbHjQ8SkFw",
        "outputId": "27e9bdb6-f7b3-46d9-9da3-ab6ea86ca82d"
      },
      "execution_count": 49,
      "outputs": [
        {
          "output_type": "execute_result",
          "data": {
            "text/plain": [
              "0    1097\n",
              "1     500\n",
              "Name: sp_ha, dtype: int64"
            ]
          },
          "metadata": {},
          "execution_count": 49
        }
      ]
    },
    {
      "cell_type": "markdown",
      "metadata": {
        "id": "nxQR3neE84iH"
      },
      "source": [
        "Tokenization and converting to sequences"
      ]
    },
    {
      "cell_type": "code",
      "execution_count": 50,
      "metadata": {
        "colab": {
          "base_uri": "https://localhost:8080/"
        },
        "id": "NG7uqQsf87zp",
        "outputId": "86449e68-d3e6-4203-867d-328512c8ada5"
      },
      "outputs": [
        {
          "output_type": "execute_result",
          "data": {
            "text/plain": [
              "55837"
            ]
          },
          "metadata": {},
          "execution_count": 50
        }
      ],
      "source": [
        "# tokenize text\n",
        "tokenizer = Tokenizer(num_words=30000)\n",
        "tokenizer.fit_on_texts(X_train)\n",
        "\n",
        "word_index = tokenizer.word_index\n",
        "vocab_size = len(word_index)\n",
        "vocab_size"
      ]
    },
    {
      "cell_type": "markdown",
      "metadata": {
        "id": "_ctWr-Y3-XBg"
      },
      "source": [
        "Convert whole text into uniform list of features"
      ]
    },
    {
      "cell_type": "code",
      "execution_count": 51,
      "metadata": {
        "id": "L5ESc4yu-kC5"
      },
      "outputs": [],
      "source": [
        "sequences = tokenizer.texts_to_sequences(X_train)"
      ]
    },
    {
      "cell_type": "code",
      "execution_count": 52,
      "metadata": {
        "colab": {
          "base_uri": "https://localhost:8080/"
        },
        "id": "mmZEr86T-Zbe",
        "outputId": "78c091e4-294c-460c-fe68-65608df6d428"
      },
      "outputs": [
        {
          "output_type": "stream",
          "name": "stdout",
          "text": [
            "Looking in indexes: https://pypi.org/simple, https://us-python.pkg.dev/colab-wheels/public/simple/\n",
            "Collecting pad_sequences\n",
            "  Downloading pad-sequences-0.6.1.tar.gz (9.5 kB)\n",
            "  Preparing metadata (setup.py) ... \u001b[?25l\u001b[?25hdone\n",
            "Building wheels for collected packages: pad_sequences\n",
            "  Building wheel for pad_sequences (setup.py) ... \u001b[?25l\u001b[?25hdone\n",
            "  Created wheel for pad_sequences: filename=pad_sequences-0.6.1-py3-none-any.whl size=10212 sha256=02e38c666da5931ed136f1cb406350a7bf84aedbe271cc9f83b412ea82fd06f1\n",
            "  Stored in directory: /root/.cache/pip/wheels/c4/d9/67/a54f34d9d990867c70393d7904a47df2f20f3712c1d246d5f5\n",
            "Successfully built pad_sequences\n",
            "Installing collected packages: pad_sequences\n",
            "Successfully installed pad_sequences-0.6.1\n"
          ]
        }
      ],
      "source": [
        "!pip install pad_sequences\n",
        "import pad_sequences\n",
        "from tensorflow.keras.preprocessing.sequence import pad_sequences"
      ]
    },
    {
      "cell_type": "code",
      "execution_count": 53,
      "metadata": {
        "colab": {
          "base_uri": "https://localhost:8080/"
        },
        "id": "FdXafzRN-oLP",
        "outputId": "7095bbee-457c-4271-e46d-d9e09707107b"
      },
      "outputs": [
        {
          "output_type": "execute_result",
          "data": {
            "text/plain": [
              "23852"
            ]
          },
          "metadata": {},
          "execution_count": 53
        }
      ],
      "source": [
        "len_of_seq=max(len(data) for data in X_train)\n",
        "len_of_seq"
      ]
    },
    {
      "cell_type": "code",
      "execution_count": 54,
      "metadata": {
        "id": "3n6jDNxPAOKN"
      },
      "outputs": [],
      "source": [
        "padded_seq = pad_sequences(sequences, maxlen = 23852,padding='post',truncating='post')"
      ]
    },
    {
      "cell_type": "code",
      "execution_count": 55,
      "metadata": {
        "colab": {
          "base_uri": "https://localhost:8080/"
        },
        "id": "_sd1AGRaAQ38",
        "outputId": "e47ab3d3-0e12-469c-8a77-10b65835be50"
      },
      "outputs": [
        {
          "output_type": "execute_result",
          "data": {
            "text/plain": [
              "array([  2, 373, 244, ...,   0,   0,   0], dtype=int32)"
            ]
          },
          "metadata": {},
          "execution_count": 55
        }
      ],
      "source": [
        "padded_seq[0]"
      ]
    },
    {
      "cell_type": "code",
      "execution_count": 56,
      "metadata": {
        "colab": {
          "base_uri": "https://localhost:8080/"
        },
        "id": "TTvYE9cMAU1D",
        "outputId": "95ec2594-caba-4613-f748-083678573146"
      },
      "outputs": [
        {
          "output_type": "execute_result",
          "data": {
            "text/plain": [
              "(3723, 23852)"
            ]
          },
          "metadata": {},
          "execution_count": 56
        }
      ],
      "source": [
        "padded_seq.shape"
      ]
    },
    {
      "cell_type": "code",
      "source": [
        "# creating embedded dictionary to store embeddings\n",
        "embedding_index = {}\n",
        "with open('/content/glove.6B.100d.txt', encoding='utf-8') as f:\n",
        "    for line in f:\n",
        "        values = line.split()\n",
        "        word = values[0]\n",
        "        coefs = np.asarray(values[1:], dtype='float32')\n",
        "        embedding_index[word] = coefs"
      ],
      "metadata": {
        "id": "DLaksympIhKM"
      },
      "execution_count": 57,
      "outputs": []
    },
    {
      "cell_type": "code",
      "source": [
        "embedding_index['click']"
      ],
      "metadata": {
        "colab": {
          "base_uri": "https://localhost:8080/"
        },
        "id": "b7Nk-OkaMSQ5",
        "outputId": "8bcfba5e-7908-4454-ade3-096acd5bb326"
      },
      "execution_count": 58,
      "outputs": [
        {
          "output_type": "execute_result",
          "data": {
            "text/plain": [
              "array([-0.76673  , -0.35962  ,  0.38721  , -0.1958   ,  0.61328  ,\n",
              "        0.39608  , -0.39255  ,  0.084647 ,  1.1457   , -0.92574  ,\n",
              "        0.20821  ,  0.027812 , -0.24241  , -0.4521   ,  0.38422  ,\n",
              "        0.57788  , -0.14454  ,  0.13371  , -0.28994  ,  0.2971   ,\n",
              "       -0.15786  , -0.064929 , -0.13543  , -0.33439  ,  0.37856  ,\n",
              "       -0.10398  ,  0.095334 ,  0.17249  , -0.136    , -1.61     ,\n",
              "        0.48465  ,  1.0644   , -0.030418 ,  0.464    ,  0.78451  ,\n",
              "       -0.048658 , -1.1462   , -0.48513  ,  0.81454  , -0.65588  ,\n",
              "        0.46249  , -0.0093431, -0.86981  , -0.64112  , -1.175    ,\n",
              "        0.78349  , -0.32483  , -0.21142  ,  0.028849 , -0.52715  ,\n",
              "        0.24266  ,  0.27229  , -0.29672  , -0.18241  , -0.65326  ,\n",
              "       -0.80052  , -0.40157  ,  0.52767  ,  1.6509   , -0.26219  ,\n",
              "       -0.43427  ,  0.94912  ,  0.25235  , -0.30629  ,  0.73016  ,\n",
              "        0.84537  ,  0.38716  ,  0.14442  , -0.21069  , -0.027754 ,\n",
              "       -0.29799  ,  0.38283  , -0.15234  , -0.98401  , -0.16938  ,\n",
              "        0.45036  , -0.68754  ,  0.092903 ,  0.6893   , -0.77978  ,\n",
              "       -0.27285  , -0.63353  , -0.39314  , -0.1874   , -0.55342  ,\n",
              "        0.084336 ,  0.52445  , -0.50239  ,  0.35261  ,  0.018351 ,\n",
              "       -0.88666  ,  1.0546   ,  0.36127  , -0.20706  ,  0.43768  ,\n",
              "       -0.33281  ,  0.35041  , -0.74039  ,  0.90881  , -0.22331  ],\n",
              "      dtype=float32)"
            ]
          },
          "metadata": {},
          "execution_count": 58
        }
      ]
    },
    {
      "cell_type": "code",
      "source": [
        "# create embedding matrix\n",
        "embedding_matrix = np.zeros((vocab_size+1, 100))\n",
        "for word, i in word_index.items():\n",
        "    embedding_vector = embedding_index.get(word)\n",
        "    if embedding_vector is not None:\n",
        "        embedding_matrix[i] = embedding_vector"
      ],
      "metadata": {
        "id": "zduKH9_NMcHG"
      },
      "execution_count": 59,
      "outputs": []
    },
    {
      "cell_type": "code",
      "source": [
        "embedding_matrix.shape"
      ],
      "metadata": {
        "colab": {
          "base_uri": "https://localhost:8080/"
        },
        "id": "FdcdK5NIMi1u",
        "outputId": "79d443c9-24a7-4312-e331-f8b12c19f1f4"
      },
      "execution_count": 60,
      "outputs": [
        {
          "output_type": "execute_result",
          "data": {
            "text/plain": [
              "(55838, 100)"
            ]
          },
          "metadata": {},
          "execution_count": 60
        }
      ]
    },
    {
      "cell_type": "code",
      "source": [
        "import tensorflow as tf\n",
        "from keras import Sequential\n",
        "from tensorflow.keras.layers import Input\n",
        "from tensorflow.keras.models import Model\n",
        "from tensorflow.keras.layers import Dense\n",
        "from tensorflow.keras.layers import LSTM\n",
        "from tensorflow.keras.layers import Embedding\n",
        "from tensorflow.keras.layers import Flatten\n",
        "from keras.layers import  Dropout"
      ],
      "metadata": {
        "id": "29Q2JdknMkVf"
      },
      "execution_count": 61,
      "outputs": []
    },
    {
      "cell_type": "code",
      "source": [
        "deep_inputs = Input(shape=(23852,))\n",
        "embedding = Embedding(\n",
        "    input_dim=30000,\n",
        "    output_dim=100\n",
        ")(deep_inputs)\n",
        "embeddings = Flatten()(embedding)\n",
        "outputs = tf.keras.layers.Dense(1, activation='sigmoid')(embeddings)\n",
        "model = tf.keras.Model(inputs=deep_inputs, outputs=outputs)"
      ],
      "metadata": {
        "id": "N4gieJ4QOuwL"
      },
      "execution_count": 62,
      "outputs": []
    },
    {
      "cell_type": "code",
      "source": [
        "# model = Sequential([\n",
        "#     Embedding(vocab_size+1, 100, weights=[embedding_matrix], trainable=False),\n",
        "#     Dropout(0.2),\n",
        "#     LSTM(128),\n",
        "#     Dropout(0.2),\n",
        "#     Dense(256),\n",
        "#     Dense(1, activation='sigmoid')\n",
        "# ])"
      ],
      "metadata": {
        "id": "PYYeMJUNdWU2"
      },
      "execution_count": 63,
      "outputs": []
    },
    {
      "cell_type": "code",
      "source": [
        "model.compile(loss='binary_crossentropy', optimizer='adam', metrics='accuracy')\n",
        "model.summary()"
      ],
      "metadata": {
        "colab": {
          "base_uri": "https://localhost:8080/"
        },
        "id": "CGDHx42iP71d",
        "outputId": "2007f12a-f96c-4b2f-9d27-f058aa0f432f"
      },
      "execution_count": 64,
      "outputs": [
        {
          "output_type": "stream",
          "name": "stdout",
          "text": [
            "Model: \"model\"\n",
            "_________________________________________________________________\n",
            " Layer (type)                Output Shape              Param #   \n",
            "=================================================================\n",
            " input_1 (InputLayer)        [(None, 23852)]           0         \n",
            "                                                                 \n",
            " embedding (Embedding)       (None, 23852, 100)        3000000   \n",
            "                                                                 \n",
            " flatten (Flatten)           (None, 2385200)           0         \n",
            "                                                                 \n",
            " dense (Dense)               (None, 1)                 2385201   \n",
            "                                                                 \n",
            "=================================================================\n",
            "Total params: 5,385,201\n",
            "Trainable params: 5,385,201\n",
            "Non-trainable params: 0\n",
            "_________________________________________________________________\n"
          ]
        }
      ]
    },
    {
      "cell_type": "code",
      "source": [
        "data.info()"
      ],
      "metadata": {
        "colab": {
          "base_uri": "https://localhost:8080/"
        },
        "id": "4fUfBnpNeWeb",
        "outputId": "237da133-2496-493a-962c-9121228efb18"
      },
      "execution_count": 65,
      "outputs": [
        {
          "output_type": "stream",
          "name": "stdout",
          "text": [
            "<class 'pandas.core.frame.DataFrame'>\n",
            "Int64Index: 5320 entries, 0 to 5827\n",
            "Data columns (total 2 columns):\n",
            " #   Column  Non-Null Count  Dtype \n",
            "---  ------  --------------  ----- \n",
            " 0   text    5320 non-null   object\n",
            " 1   sp_ha   5320 non-null   int64 \n",
            "dtypes: int64(1), object(1)\n",
            "memory usage: 253.7+ KB\n"
          ]
        }
      ]
    },
    {
      "cell_type": "code",
      "source": [
        "history = model.fit(\n",
        "    padded_seq,\n",
        "    y_train,\n",
        "    validation_split=0.2,\n",
        "    batch_size=32,\n",
        "    epochs=100,\n",
        "    callbacks=[\n",
        "        tf.keras.callbacks.EarlyStopping(\n",
        "            monitor='val_loss',\n",
        "            patience=3,\n",
        "            restore_best_weights=True\n",
        "        )\n",
        "    ]\n",
        ")"
      ],
      "metadata": {
        "colab": {
          "base_uri": "https://localhost:8080/"
        },
        "collapsed": true,
        "id": "Hpb2IyS5QM_i",
        "outputId": "3e4e30c9-a53d-45db-a2d1-abb97c79eac7"
      },
      "execution_count": 66,
      "outputs": [
        {
          "output_type": "stream",
          "name": "stdout",
          "text": [
            "Epoch 1/100\n",
            "94/94 [==============================] - 34s 277ms/step - loss: 1.7696 - accuracy: 0.7367 - val_loss: 0.1207 - val_accuracy: 0.9732\n",
            "Epoch 2/100\n",
            "94/94 [==============================] - 19s 206ms/step - loss: 0.0480 - accuracy: 0.9913 - val_loss: 0.0430 - val_accuracy: 0.9852\n",
            "Epoch 3/100\n",
            "94/94 [==============================] - 18s 195ms/step - loss: 0.0120 - accuracy: 0.9990 - val_loss: 0.0333 - val_accuracy: 0.9866\n",
            "Epoch 4/100\n",
            "94/94 [==============================] - 18s 198ms/step - loss: 0.0055 - accuracy: 0.9997 - val_loss: 0.0290 - val_accuracy: 0.9866\n",
            "Epoch 5/100\n",
            "94/94 [==============================] - 15s 161ms/step - loss: 0.0033 - accuracy: 0.9997 - val_loss: 0.0277 - val_accuracy: 0.9866\n",
            "Epoch 6/100\n",
            "94/94 [==============================] - 15s 163ms/step - loss: 0.0022 - accuracy: 0.9997 - val_loss: 0.0264 - val_accuracy: 0.9866\n",
            "Epoch 7/100\n",
            "94/94 [==============================] - 15s 160ms/step - loss: 0.0016 - accuracy: 0.9997 - val_loss: 0.0261 - val_accuracy: 0.9866\n",
            "Epoch 8/100\n",
            "94/94 [==============================] - 14s 145ms/step - loss: 0.0013 - accuracy: 0.9997 - val_loss: 0.0250 - val_accuracy: 0.9879\n",
            "Epoch 9/100\n",
            "94/94 [==============================] - 13s 141ms/step - loss: 0.0010 - accuracy: 1.0000 - val_loss: 0.0250 - val_accuracy: 0.9879\n",
            "Epoch 10/100\n",
            "94/94 [==============================] - 13s 137ms/step - loss: 8.2956e-04 - accuracy: 1.0000 - val_loss: 0.0244 - val_accuracy: 0.9879\n",
            "Epoch 11/100\n",
            "94/94 [==============================] - 11s 123ms/step - loss: 6.8655e-04 - accuracy: 1.0000 - val_loss: 0.0247 - val_accuracy: 0.9879\n",
            "Epoch 12/100\n",
            "94/94 [==============================] - 11s 116ms/step - loss: 5.9017e-04 - accuracy: 1.0000 - val_loss: 0.0242 - val_accuracy: 0.9879\n",
            "Epoch 13/100\n",
            "94/94 [==============================] - 10s 107ms/step - loss: 4.9809e-04 - accuracy: 1.0000 - val_loss: 0.0247 - val_accuracy: 0.9879\n",
            "Epoch 14/100\n",
            "94/94 [==============================] - 10s 111ms/step - loss: 4.4250e-04 - accuracy: 1.0000 - val_loss: 0.0242 - val_accuracy: 0.9879\n",
            "Epoch 15/100\n",
            "94/94 [==============================] - 8s 81ms/step - loss: 3.8026e-04 - accuracy: 1.0000 - val_loss: 0.0241 - val_accuracy: 0.9879\n",
            "Epoch 16/100\n",
            "94/94 [==============================] - 9s 90ms/step - loss: 3.3185e-04 - accuracy: 1.0000 - val_loss: 0.0242 - val_accuracy: 0.9879\n",
            "Epoch 17/100\n",
            "94/94 [==============================] - 9s 101ms/step - loss: 2.9253e-04 - accuracy: 1.0000 - val_loss: 0.0236 - val_accuracy: 0.9893\n",
            "Epoch 18/100\n",
            "94/94 [==============================] - 8s 82ms/step - loss: 2.5961e-04 - accuracy: 1.0000 - val_loss: 0.0241 - val_accuracy: 0.9893\n",
            "Epoch 19/100\n",
            "94/94 [==============================] - 8s 88ms/step - loss: 2.2861e-04 - accuracy: 1.0000 - val_loss: 0.0244 - val_accuracy: 0.9866\n",
            "Epoch 20/100\n",
            "94/94 [==============================] - 7s 78ms/step - loss: 2.0607e-04 - accuracy: 1.0000 - val_loss: 0.0241 - val_accuracy: 0.9893\n"
          ]
        }
      ]
    },
    {
      "cell_type": "code",
      "source": [
        "# history = model.fit(X_train, y_train, epochs=10, batch_size=256)"
      ],
      "metadata": {
        "id": "K7tBlBand5yK"
      },
      "execution_count": 67,
      "outputs": []
    }
  ],
  "metadata": {
    "colab": {
      "provenance": []
    },
    "kernelspec": {
      "display_name": "Python 3",
      "name": "python3"
    },
    "language_info": {
      "name": "python"
    },
    "accelerator": "GPU",
    "gpuClass": "standard"
  },
  "nbformat": 4,
  "nbformat_minor": 0
}